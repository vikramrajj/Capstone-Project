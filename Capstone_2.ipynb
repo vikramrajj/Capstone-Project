{
 "cells": [
  {
   "cell_type": "markdown",
   "metadata": {},
   "source": [
    "## Travel Insurance"
   ]
  },
  {
   "cell_type": "markdown",
   "metadata": {},
   "source": [
    "__Introduction to project 2 – Problem Statement:__"
   ]
  },
  {
   "cell_type": "markdown",
   "metadata": {},
   "source": [
    "#### Improve “Travel Opt-in conversions” :\n",
    "##### There is a Travel Agency firm available with all the data based of different customers who have booked travel ticket along with whether they did opt for insurance. They want to improve the insurance opt-in from their customers. They are planning to improve the traveller insurance opt-in ratio.The task is to train a model that can predict whether a Customer would opt or not-opt in the Insurance based on the given attributes. Basically, it’s a classification problem."
   ]
  },
  {
   "cell_type": "markdown",
   "metadata": {},
   "source": [
    "#### Explanation of Feature :\n",
    "\n",
    "##### Agency    \t\t: Name of the Agency Customer used for Booking the travel. \n",
    "##### Agency Type              \t: Type of the Agency (eg. Air, Water, Rail, Road) \n",
    "##### Distribution Channel  \t: How were the Tickets booked, medium like Online or Offline.\n",
    "##### Duration                    \t: Duration of the Travel\n",
    "##### Destination                 : Destination of the Travel\n",
    "##### Net Sales                   \t: Total Sales of the Tickets.\n",
    "##### Age                         \t: Age of the Customer who booked the ticket. \n",
    "##### Claim                       \t: Whether the Customer opt for claim (Target Column) \n"
   ]
  },
  {
   "cell_type": "markdown",
   "metadata": {},
   "source": [
    "##### Workflow"
   ]
  },
  {
   "cell_type": "markdown",
   "metadata": {},
   "source": [
    "![](Project.png)"
   ]
  },
  {
   "cell_type": "markdown",
   "metadata": {},
   "source": [
    "Aim : Predict whether the insurance policies are claimed (classification)\n"
   ]
  },
  {
   "cell_type": "markdown",
   "metadata": {},
   "source": [
    "Code Snippets:"
   ]
  },
  {
   "cell_type": "code",
   "execution_count": 1,
   "metadata": {},
   "outputs": [],
   "source": [
    "#importing library\n",
    "import numpy as np\n",
    "import pandas as pd\n",
    "import seaborn as sns\n",
    "import scipy.stats as stats\n",
    "import matplotlib.pyplot as plt\n",
    "import warnings"
   ]
  },
  {
   "cell_type": "code",
   "execution_count": 2,
   "metadata": {},
   "outputs": [
    {
     "data": {
      "text/html": [
       "<div>\n",
       "<style scoped>\n",
       "    .dataframe tbody tr th:only-of-type {\n",
       "        vertical-align: middle;\n",
       "    }\n",
       "\n",
       "    .dataframe tbody tr th {\n",
       "        vertical-align: top;\n",
       "    }\n",
       "\n",
       "    .dataframe thead th {\n",
       "        text-align: right;\n",
       "    }\n",
       "</style>\n",
       "<table border=\"1\" class=\"dataframe\">\n",
       "  <thead>\n",
       "    <tr style=\"text-align: right;\">\n",
       "      <th></th>\n",
       "      <th>Agency</th>\n",
       "      <th>Agency Type</th>\n",
       "      <th>Distribution Channel</th>\n",
       "      <th>Product Name</th>\n",
       "      <th>Duration</th>\n",
       "      <th>Destination</th>\n",
       "      <th>Net Sales</th>\n",
       "      <th>Commision (in value)</th>\n",
       "      <th>Gender</th>\n",
       "      <th>Age</th>\n",
       "      <th>Claim</th>\n",
       "    </tr>\n",
       "  </thead>\n",
       "  <tbody>\n",
       "    <tr>\n",
       "      <th>0</th>\n",
       "      <td>CBH</td>\n",
       "      <td>Travel Agency</td>\n",
       "      <td>Offline</td>\n",
       "      <td>Comprehensive Plan</td>\n",
       "      <td>186</td>\n",
       "      <td>MALAYSIA</td>\n",
       "      <td>-29.0</td>\n",
       "      <td>9.57</td>\n",
       "      <td>F</td>\n",
       "      <td>81</td>\n",
       "      <td>No</td>\n",
       "    </tr>\n",
       "    <tr>\n",
       "      <th>1</th>\n",
       "      <td>CBH</td>\n",
       "      <td>Travel Agency</td>\n",
       "      <td>Offline</td>\n",
       "      <td>Comprehensive Plan</td>\n",
       "      <td>186</td>\n",
       "      <td>MALAYSIA</td>\n",
       "      <td>-29.0</td>\n",
       "      <td>9.57</td>\n",
       "      <td>F</td>\n",
       "      <td>71</td>\n",
       "      <td>No</td>\n",
       "    </tr>\n",
       "    <tr>\n",
       "      <th>2</th>\n",
       "      <td>CWT</td>\n",
       "      <td>Travel Agency</td>\n",
       "      <td>Online</td>\n",
       "      <td>Rental Vehicle Excess Insurance</td>\n",
       "      <td>65</td>\n",
       "      <td>AUSTRALIA</td>\n",
       "      <td>-49.5</td>\n",
       "      <td>29.70</td>\n",
       "      <td>NaN</td>\n",
       "      <td>32</td>\n",
       "      <td>No</td>\n",
       "    </tr>\n",
       "    <tr>\n",
       "      <th>3</th>\n",
       "      <td>CWT</td>\n",
       "      <td>Travel Agency</td>\n",
       "      <td>Online</td>\n",
       "      <td>Rental Vehicle Excess Insurance</td>\n",
       "      <td>60</td>\n",
       "      <td>AUSTRALIA</td>\n",
       "      <td>-39.6</td>\n",
       "      <td>23.76</td>\n",
       "      <td>NaN</td>\n",
       "      <td>32</td>\n",
       "      <td>No</td>\n",
       "    </tr>\n",
       "    <tr>\n",
       "      <th>4</th>\n",
       "      <td>CWT</td>\n",
       "      <td>Travel Agency</td>\n",
       "      <td>Online</td>\n",
       "      <td>Rental Vehicle Excess Insurance</td>\n",
       "      <td>79</td>\n",
       "      <td>ITALY</td>\n",
       "      <td>-19.8</td>\n",
       "      <td>11.88</td>\n",
       "      <td>NaN</td>\n",
       "      <td>41</td>\n",
       "      <td>No</td>\n",
       "    </tr>\n",
       "  </tbody>\n",
       "</table>\n",
       "</div>"
      ],
      "text/plain": [
       "  Agency    Agency Type Distribution Channel                     Product Name  \\\n",
       "0    CBH  Travel Agency              Offline               Comprehensive Plan   \n",
       "1    CBH  Travel Agency              Offline               Comprehensive Plan   \n",
       "2    CWT  Travel Agency               Online  Rental Vehicle Excess Insurance   \n",
       "3    CWT  Travel Agency               Online  Rental Vehicle Excess Insurance   \n",
       "4    CWT  Travel Agency               Online  Rental Vehicle Excess Insurance   \n",
       "\n",
       "   Duration Destination  Net Sales  Commision (in value) Gender  Age Claim  \n",
       "0       186    MALAYSIA      -29.0                  9.57      F   81    No  \n",
       "1       186    MALAYSIA      -29.0                  9.57      F   71    No  \n",
       "2        65   AUSTRALIA      -49.5                 29.70    NaN   32    No  \n",
       "3        60   AUSTRALIA      -39.6                 23.76    NaN   32    No  \n",
       "4        79       ITALY      -19.8                 11.88    NaN   41    No  "
      ]
     },
     "execution_count": 2,
     "metadata": {},
     "output_type": "execute_result"
    }
   ],
   "source": [
    "# Reading the DataFrame\n",
    "df = pd.read_csv(\"Capstone/travel.csv\")\n",
    "df.head()"
   ]
  },
  {
   "cell_type": "code",
   "execution_count": 3,
   "metadata": {},
   "outputs": [
    {
     "name": "stdout",
     "output_type": "stream",
     "text": [
      "(63326, 11)\n"
     ]
    },
    {
     "data": {
      "text/plain": [
       "Agency                      0\n",
       "Agency Type                 0\n",
       "Distribution Channel        0\n",
       "Product Name                0\n",
       "Duration                    0\n",
       "Destination                 0\n",
       "Net Sales                   0\n",
       "Commision (in value)        0\n",
       "Gender                  45107\n",
       "Age                         0\n",
       "Claim                       0\n",
       "dtype: int64"
      ]
     },
     "execution_count": 3,
     "metadata": {},
     "output_type": "execute_result"
    }
   ],
   "source": [
    "#Checking for Null values\n",
    "\n",
    "print (df.shape)\n",
    "df.isnull().sum()"
   ]
  },
  {
   "cell_type": "code",
   "execution_count": 4,
   "metadata": {},
   "outputs": [
    {
     "name": "stdout",
     "output_type": "stream",
     "text": [
      "<class 'pandas.core.frame.DataFrame'>\n",
      "RangeIndex: 63326 entries, 0 to 63325\n",
      "Data columns (total 11 columns):\n",
      " #   Column                Non-Null Count  Dtype  \n",
      "---  ------                --------------  -----  \n",
      " 0   Agency                63326 non-null  object \n",
      " 1   Agency Type           63326 non-null  object \n",
      " 2   Distribution Channel  63326 non-null  object \n",
      " 3   Product Name          63326 non-null  object \n",
      " 4   Duration              63326 non-null  int64  \n",
      " 5   Destination           63326 non-null  object \n",
      " 6   Net Sales             63326 non-null  float64\n",
      " 7   Commision (in value)  63326 non-null  float64\n",
      " 8   Gender                18219 non-null  object \n",
      " 9   Age                   63326 non-null  int64  \n",
      " 10  Claim                 63326 non-null  object \n",
      "dtypes: float64(2), int64(2), object(7)\n",
      "memory usage: 5.3+ MB\n"
     ]
    }
   ],
   "source": [
    "# Information of the Data.\n",
    "df.info()"
   ]
  },
  {
   "cell_type": "code",
   "execution_count": 5,
   "metadata": {},
   "outputs": [
    {
     "data": {
      "text/html": [
       "<div>\n",
       "<style scoped>\n",
       "    .dataframe tbody tr th:only-of-type {\n",
       "        vertical-align: middle;\n",
       "    }\n",
       "\n",
       "    .dataframe tbody tr th {\n",
       "        vertical-align: top;\n",
       "    }\n",
       "\n",
       "    .dataframe thead th {\n",
       "        text-align: right;\n",
       "    }\n",
       "</style>\n",
       "<table border=\"1\" class=\"dataframe\">\n",
       "  <thead>\n",
       "    <tr style=\"text-align: right;\">\n",
       "      <th></th>\n",
       "      <th>Duration</th>\n",
       "      <th>Net Sales</th>\n",
       "      <th>Commision (in value)</th>\n",
       "      <th>Age</th>\n",
       "    </tr>\n",
       "  </thead>\n",
       "  <tbody>\n",
       "    <tr>\n",
       "      <th>count</th>\n",
       "      <td>63326.000000</td>\n",
       "      <td>63326.000000</td>\n",
       "      <td>63326.000000</td>\n",
       "      <td>63326.000000</td>\n",
       "    </tr>\n",
       "    <tr>\n",
       "      <th>mean</th>\n",
       "      <td>49.317074</td>\n",
       "      <td>40.702018</td>\n",
       "      <td>9.809992</td>\n",
       "      <td>39.969981</td>\n",
       "    </tr>\n",
       "    <tr>\n",
       "      <th>std</th>\n",
       "      <td>101.791566</td>\n",
       "      <td>48.845637</td>\n",
       "      <td>19.804388</td>\n",
       "      <td>14.017010</td>\n",
       "    </tr>\n",
       "    <tr>\n",
       "      <th>min</th>\n",
       "      <td>-2.000000</td>\n",
       "      <td>-389.000000</td>\n",
       "      <td>0.000000</td>\n",
       "      <td>0.000000</td>\n",
       "    </tr>\n",
       "    <tr>\n",
       "      <th>25%</th>\n",
       "      <td>9.000000</td>\n",
       "      <td>18.000000</td>\n",
       "      <td>0.000000</td>\n",
       "      <td>35.000000</td>\n",
       "    </tr>\n",
       "    <tr>\n",
       "      <th>50%</th>\n",
       "      <td>22.000000</td>\n",
       "      <td>26.530000</td>\n",
       "      <td>0.000000</td>\n",
       "      <td>36.000000</td>\n",
       "    </tr>\n",
       "    <tr>\n",
       "      <th>75%</th>\n",
       "      <td>53.000000</td>\n",
       "      <td>48.000000</td>\n",
       "      <td>11.550000</td>\n",
       "      <td>43.000000</td>\n",
       "    </tr>\n",
       "    <tr>\n",
       "      <th>max</th>\n",
       "      <td>4881.000000</td>\n",
       "      <td>810.000000</td>\n",
       "      <td>283.500000</td>\n",
       "      <td>118.000000</td>\n",
       "    </tr>\n",
       "  </tbody>\n",
       "</table>\n",
       "</div>"
      ],
      "text/plain": [
       "           Duration     Net Sales  Commision (in value)           Age\n",
       "count  63326.000000  63326.000000          63326.000000  63326.000000\n",
       "mean      49.317074     40.702018              9.809992     39.969981\n",
       "std      101.791566     48.845637             19.804388     14.017010\n",
       "min       -2.000000   -389.000000              0.000000      0.000000\n",
       "25%        9.000000     18.000000              0.000000     35.000000\n",
       "50%       22.000000     26.530000              0.000000     36.000000\n",
       "75%       53.000000     48.000000             11.550000     43.000000\n",
       "max     4881.000000    810.000000            283.500000    118.000000"
      ]
     },
     "execution_count": 5,
     "metadata": {},
     "output_type": "execute_result"
    }
   ],
   "source": [
    "# Descibing the Data.\n",
    "df.describe()"
   ]
  },
  {
   "cell_type": "markdown",
   "metadata": {},
   "source": [
    "Check Distribution Channel"
   ]
  },
  {
   "cell_type": "code",
   "execution_count": 6,
   "metadata": {},
   "outputs": [
    {
     "data": {
      "text/plain": [
       "<matplotlib.axes._subplots.AxesSubplot at 0x7f6e2e11be50>"
      ]
     },
     "execution_count": 6,
     "metadata": {},
     "output_type": "execute_result"
    },
    {
     "data": {
      "image/png": "[encoded data removed]",
      "text/plain": [
       "<Figure size 432x288 with 1 Axes>"
      ]
     },
     "metadata": {
      "needs_background": "light"
     },
     "output_type": "display_data"
    }
   ],
   "source": [
    "sns.barplot(data=df,x=\"Age\",y=\"Distribution Channel\")"
   ]
  },
  {
   "cell_type": "code",
   "execution_count": 7,
   "metadata": {},
   "outputs": [
    {
     "data": {
      "text/plain": [
       "<matplotlib.axes._subplots.AxesSubplot at 0x7f6e2c046a00>"
      ]
     },
     "execution_count": 7,
     "metadata": {},
     "output_type": "execute_result"
    },
    {
     "data": {
      "image/png": "[encoded data removed]",
      "text/plain": [
       "<Figure size 432x288 with 1 Axes>"
      ]
     },
     "metadata": {
      "needs_background": "light"
     },
     "output_type": "display_data"
    }
   ],
   "source": [
    "sns.countplot(x='Distribution Channel', data=df, hue='Agency Type') # Create some data"
   ]
  },
  {
   "cell_type": "code",
   "execution_count": 8,
   "metadata": {},
   "outputs": [
    {
     "name": "stderr",
     "output_type": "stream",
     "text": [
      "2020-12-07 21:06:16,707 - INFO     - NumExpr defaulting to 4 threads.\n"
     ]
    },
    {
     "data": {
      "text/html": [
       "\n",
       "        <iframe\n",
       "            width=\"100%\"\n",
       "            height=\"475\"\n",
       "            src=\"http://localhost.localdomain:40000/dtale/iframe/1\"\n",
       "            frameborder=\"0\"\n",
       "            allowfullscreen\n",
       "        ></iframe>\n",
       "        "
      ],
      "text/plain": [
       "<IPython.lib.display.IFrame at 0x7f6e29710430>"
      ]
     },
     "metadata": {},
     "output_type": "display_data"
    },
    {
     "data": {
      "text/plain": []
     },
     "execution_count": 8,
     "metadata": {},
     "output_type": "execute_result"
    }
   ],
   "source": [
    "import dtale\n",
    "dtale.show(df)"
   ]
  },
  {
   "cell_type": "code",
   "execution_count": 9,
   "metadata": {},
   "outputs": [
    {
     "data": {
      "text/plain": [
       "<seaborn.axisgrid.PairGrid at 0x7f6e296f6ee0>"
      ]
     },
     "execution_count": 9,
     "metadata": {},
     "output_type": "execute_result"
    },
    {
     "data": {
      "image/png": "[encoded data removed]",
      "text/plain": [
       "<Figure size 720x720 with 20 Axes>"
      ]
     },
     "metadata": {
      "needs_background": "light"
     },
     "output_type": "display_data"
    }
   ],
   "source": [
    "sns.pairplot(df)"
   ]
  },
  {
   "cell_type": "markdown",
   "metadata": {},
   "source": [
    "Sweetviz library Implementation"
   ]
  },
  {
   "cell_type": "code",
   "execution_count": 10,
   "metadata": {},
   "outputs": [],
   "source": [
    "import sweetviz"
   ]
  },
  {
   "cell_type": "code",
   "execution_count": 11,
   "metadata": {},
   "outputs": [
    {
     "data": {
      "application/vnd.jupyter.widget-view+json": {
       "model_id": "b0e01fa2c477441dac8f1328409c0cdd",
       "version_major": 2,
       "version_minor": 0
      },
      "text/plain": [
       "HBox(children=(FloatProgress(value=0.0, layout=Layout(flex='2'), max=12.0), HTML(value='')), layout=Layout(dis…"
      ]
     },
     "metadata": {},
     "output_type": "display_data"
    },
    {
     "name": "stdout",
     "output_type": "stream",
     "text": [
      "\n"
     ]
    }
   ],
   "source": [
    "my_report = sweetviz.analyze([df,\"Insurance\"],target_feat=\"Claim\")"
   ]
  },
  {
   "cell_type": "code",
   "execution_count": 12,
   "metadata": {},
   "outputs": [
    {
     "name": "stdout",
     "output_type": "stream",
     "text": [
      "Report Report.html was generated! NOTEBOOK/COLAB USERS: the web browser MAY not pop up, regardless, the report IS saved in your notebook/colab files.\n"
     ]
    }
   ],
   "source": [
    "my_report.show_html(\"Report.html\")"
   ]
  },
  {
   "cell_type": "markdown",
   "metadata": {},
   "source": [
    "Inter Quartile Range Identification"
   ]
  },
  {
   "cell_type": "code",
   "execution_count": 13,
   "metadata": {},
   "outputs": [
    {
     "name": "stdout",
     "output_type": "stream",
     "text": [
      "Duration               -57.000\n",
      "Net Sales              -27.000\n",
      "Commision (in value)   -17.325\n",
      "Age                     23.000\n",
      "dtype: float64 Duration                119.000\n",
      "Net Sales                93.000\n",
      "Commision (in value)     28.875\n",
      "Age                      55.000\n",
      "dtype: float64\n"
     ]
    }
   ],
   "source": [
    "import scipy.stats as stats\n",
    "\n",
    "\n",
    "Q1 = df.quantile(q=.25)\n",
    "Q3 = df.quantile(q=.75)\n",
    "\n",
    "IQR=Q3-Q1\n",
    "lowqe_bound=Q1 - 1.5 * IQR\n",
    "upper_bound=Q3 + 1.5 * IQR\n",
    "print(lowqe_bound,upper_bound)"
   ]
  },
  {
   "cell_type": "code",
   "execution_count": 14,
   "metadata": {},
   "outputs": [
    {
     "data": {
      "text/plain": [
       "(45598, 11)"
      ]
     },
     "execution_count": 14,
     "metadata": {},
     "output_type": "execute_result"
    }
   ],
   "source": [
    "df = df[~((df < lowqe_bound) |(df > upper_bound)).any(axis=1)]\n",
    "\n",
    "#find how many rows are left in the dataframe \n",
    "df.shape"
   ]
  },
  {
   "cell_type": "markdown",
   "metadata": {},
   "source": [
    "Heat Map"
   ]
  },
  {
   "cell_type": "code",
   "execution_count": 15,
   "metadata": {},
   "outputs": [
    {
     "data": {
      "image/png": "[encoded data removed]",
      "text/plain": [
       "<Figure size 2000x1500 with 2 Axes>"
      ]
     },
     "metadata": {},
     "output_type": "display_data"
    }
   ],
   "source": [
    "import seaborn as sns\n",
    "\n",
    "plt.figure(figsize =(20,15))\n",
    "sns.heatmap(df.corr(),square = True, annot = True,cmap= 'mako' )\n",
    "plt.title(\"Heatmap for Previous campiagn values\")\n",
    "plt.show()"
   ]
  },
  {
   "cell_type": "markdown",
   "metadata": {},
   "source": [
    "Droppping Gender column as too many null values\n",
    "###### i.e Gender                  45107"
   ]
  },
  {
   "cell_type": "code",
   "execution_count": 16,
   "metadata": {},
   "outputs": [
    {
     "name": "stderr",
     "output_type": "stream",
     "text": [
      "/home/vikram/.local/lib/python3.8/site-packages/pandas/core/frame.py:4160: SettingWithCopyWarning:\n",
      "\n",
      "\n",
      "A value is trying to be set on a copy of a slice from a DataFrame\n",
      "\n",
      "See the caveats in the documentation: https://pandas.pydata.org/pandas-docs/stable/user_guide/indexing.html#returning-a-view-versus-a-copy\n",
      "\n"
     ]
    }
   ],
   "source": [
    "df1 =df.drop([\"Gender\",],axis=1,inplace=True)"
   ]
  },
  {
   "cell_type": "code",
   "execution_count": 17,
   "metadata": {},
   "outputs": [
    {
     "name": "stdout",
     "output_type": "stream",
     "text": [
      "\n",
      " EPX    29846\n",
      "C2B     5138\n",
      "JZI     4499\n",
      "CWT     3612\n",
      "SSI      871\n",
      "RAB      530\n",
      "KML      287\n",
      "LWC      250\n",
      "ART      244\n",
      "TST      235\n",
      "CCR       45\n",
      "CBH       22\n",
      "CSR       19\n",
      "Name: Agency, dtype: int64\n"
     ]
    }
   ],
   "source": [
    "print(\"\\n\",df.Agency.value_counts())"
   ]
  },
  {
   "cell_type": "code",
   "execution_count": 18,
   "metadata": {},
   "outputs": [],
   "source": [
    "df2 =df.groupby('Agency').filter(lambda x : len(x)>1000)\n",
    "df2 = df.groupby(\"Product Name\").filter(lambda x : len(x)>1000)\n",
    "df2 = df.groupby(\"Destination\").filter(lambda x : len(x)>50)"
   ]
  },
  {
   "cell_type": "code",
   "execution_count": 19,
   "metadata": {},
   "outputs": [],
   "source": [
    "result = pd.get_dummies(data=df2, columns=['Agency', \"Agency Type\",'Product Name','Distribution Channel','Destination',\"Claim\"])"
   ]
  },
  {
   "cell_type": "code",
   "execution_count": 20,
   "metadata": {},
   "outputs": [
    {
     "data": {
      "text/html": [
       "<div>\n",
       "<style scoped>\n",
       "    .dataframe tbody tr th:only-of-type {\n",
       "        vertical-align: middle;\n",
       "    }\n",
       "\n",
       "    .dataframe tbody tr th {\n",
       "        vertical-align: top;\n",
       "    }\n",
       "\n",
       "    .dataframe thead th {\n",
       "        text-align: right;\n",
       "    }\n",
       "</style>\n",
       "<table border=\"1\" class=\"dataframe\">\n",
       "  <thead>\n",
       "    <tr style=\"text-align: right;\">\n",
       "      <th></th>\n",
       "      <th>Duration</th>\n",
       "      <th>Net Sales</th>\n",
       "      <th>Commision (in value)</th>\n",
       "      <th>Age</th>\n",
       "      <th>Agency_ART</th>\n",
       "      <th>Agency_C2B</th>\n",
       "      <th>Agency_CBH</th>\n",
       "      <th>Agency_CCR</th>\n",
       "      <th>Agency_CSR</th>\n",
       "      <th>Agency_CWT</th>\n",
       "      <th>...</th>\n",
       "      <th>Destination_SRI LANKA</th>\n",
       "      <th>Destination_SWITZERLAND</th>\n",
       "      <th>Destination_TAIWAN, PROVINCE OF CHINA</th>\n",
       "      <th>Destination_THAILAND</th>\n",
       "      <th>Destination_UNITED ARAB EMIRATES</th>\n",
       "      <th>Destination_UNITED KINGDOM</th>\n",
       "      <th>Destination_UNITED STATES</th>\n",
       "      <th>Destination_VIET NAM</th>\n",
       "      <th>Claim_No</th>\n",
       "      <th>Claim_Yes</th>\n",
       "    </tr>\n",
       "  </thead>\n",
       "  <tbody>\n",
       "    <tr>\n",
       "      <th>4</th>\n",
       "      <td>79</td>\n",
       "      <td>-19.8</td>\n",
       "      <td>11.88</td>\n",
       "      <td>41</td>\n",
       "      <td>0</td>\n",
       "      <td>0</td>\n",
       "      <td>0</td>\n",
       "      <td>0</td>\n",
       "      <td>0</td>\n",
       "      <td>1</td>\n",
       "      <td>...</td>\n",
       "      <td>0</td>\n",
       "      <td>0</td>\n",
       "      <td>0</td>\n",
       "      <td>0</td>\n",
       "      <td>0</td>\n",
       "      <td>0</td>\n",
       "      <td>0</td>\n",
       "      <td>0</td>\n",
       "      <td>1</td>\n",
       "      <td>0</td>\n",
       "    </tr>\n",
       "    <tr>\n",
       "      <th>8</th>\n",
       "      <td>57</td>\n",
       "      <td>-19.8</td>\n",
       "      <td>11.88</td>\n",
       "      <td>44</td>\n",
       "      <td>0</td>\n",
       "      <td>0</td>\n",
       "      <td>0</td>\n",
       "      <td>0</td>\n",
       "      <td>0</td>\n",
       "      <td>1</td>\n",
       "      <td>...</td>\n",
       "      <td>0</td>\n",
       "      <td>0</td>\n",
       "      <td>0</td>\n",
       "      <td>1</td>\n",
       "      <td>0</td>\n",
       "      <td>0</td>\n",
       "      <td>0</td>\n",
       "      <td>0</td>\n",
       "      <td>1</td>\n",
       "      <td>0</td>\n",
       "    </tr>\n",
       "    <tr>\n",
       "      <th>11</th>\n",
       "      <td>1</td>\n",
       "      <td>-18.0</td>\n",
       "      <td>6.30</td>\n",
       "      <td>47</td>\n",
       "      <td>0</td>\n",
       "      <td>0</td>\n",
       "      <td>0</td>\n",
       "      <td>0</td>\n",
       "      <td>0</td>\n",
       "      <td>0</td>\n",
       "      <td>...</td>\n",
       "      <td>0</td>\n",
       "      <td>0</td>\n",
       "      <td>0</td>\n",
       "      <td>0</td>\n",
       "      <td>0</td>\n",
       "      <td>0</td>\n",
       "      <td>0</td>\n",
       "      <td>0</td>\n",
       "      <td>1</td>\n",
       "      <td>0</td>\n",
       "    </tr>\n",
       "    <tr>\n",
       "      <th>14</th>\n",
       "      <td>39</td>\n",
       "      <td>-25.0</td>\n",
       "      <td>0.00</td>\n",
       "      <td>36</td>\n",
       "      <td>0</td>\n",
       "      <td>0</td>\n",
       "      <td>0</td>\n",
       "      <td>0</td>\n",
       "      <td>0</td>\n",
       "      <td>0</td>\n",
       "      <td>...</td>\n",
       "      <td>0</td>\n",
       "      <td>0</td>\n",
       "      <td>0</td>\n",
       "      <td>0</td>\n",
       "      <td>0</td>\n",
       "      <td>0</td>\n",
       "      <td>0</td>\n",
       "      <td>1</td>\n",
       "      <td>1</td>\n",
       "      <td>0</td>\n",
       "    </tr>\n",
       "    <tr>\n",
       "      <th>18</th>\n",
       "      <td>3</td>\n",
       "      <td>-18.0</td>\n",
       "      <td>6.30</td>\n",
       "      <td>47</td>\n",
       "      <td>0</td>\n",
       "      <td>0</td>\n",
       "      <td>0</td>\n",
       "      <td>0</td>\n",
       "      <td>0</td>\n",
       "      <td>0</td>\n",
       "      <td>...</td>\n",
       "      <td>0</td>\n",
       "      <td>0</td>\n",
       "      <td>0</td>\n",
       "      <td>0</td>\n",
       "      <td>0</td>\n",
       "      <td>0</td>\n",
       "      <td>0</td>\n",
       "      <td>0</td>\n",
       "      <td>1</td>\n",
       "      <td>0</td>\n",
       "    </tr>\n",
       "  </tbody>\n",
       "</table>\n",
       "<p>5 rows × 80 columns</p>\n",
       "</div>"
      ],
      "text/plain": [
       "    Duration  Net Sales  Commision (in value)  Age  Agency_ART  Agency_C2B  \\\n",
       "4         79      -19.8                 11.88   41           0           0   \n",
       "8         57      -19.8                 11.88   44           0           0   \n",
       "11         1      -18.0                  6.30   47           0           0   \n",
       "14        39      -25.0                  0.00   36           0           0   \n",
       "18         3      -18.0                  6.30   47           0           0   \n",
       "\n",
       "    Agency_CBH  Agency_CCR  Agency_CSR  Agency_CWT  ...  \\\n",
       "4            0           0           0           1  ...   \n",
       "8            0           0           0           1  ...   \n",
       "11           0           0           0           0  ...   \n",
       "14           0           0           0           0  ...   \n",
       "18           0           0           0           0  ...   \n",
       "\n",
       "    Destination_SRI LANKA  Destination_SWITZERLAND  \\\n",
       "4                       0                        0   \n",
       "8                       0                        0   \n",
       "11                      0                        0   \n",
       "14                      0                        0   \n",
       "18                      0                        0   \n",
       "\n",
       "    Destination_TAIWAN, PROVINCE OF CHINA  Destination_THAILAND  \\\n",
       "4                                       0                     0   \n",
       "8                                       0                     1   \n",
       "11                                      0                     0   \n",
       "14                                      0                     0   \n",
       "18                                      0                     0   \n",
       "\n",
       "    Destination_UNITED ARAB EMIRATES  Destination_UNITED KINGDOM  \\\n",
       "4                                  0                           0   \n",
       "8                                  0                           0   \n",
       "11                                 0                           0   \n",
       "14                                 0                           0   \n",
       "18                                 0                           0   \n",
       "\n",
       "    Destination_UNITED STATES  Destination_VIET NAM  Claim_No  Claim_Yes  \n",
       "4                           0                     0         1          0  \n",
       "8                           0                     0         1          0  \n",
       "11                          0                     0         1          0  \n",
       "14                          0                     1         1          0  \n",
       "18                          0                     0         1          0  \n",
       "\n",
       "[5 rows x 80 columns]"
      ]
     },
     "execution_count": 20,
     "metadata": {},
     "output_type": "execute_result"
    }
   ],
   "source": [
    "result.head()\n"
   ]
  },
  {
   "cell_type": "code",
   "execution_count": 21,
   "metadata": {},
   "outputs": [
    {
     "name": "stdout",
     "output_type": "stream",
     "text": [
      "<class 'pandas.core.frame.DataFrame'>\n",
      "Int64Index: 44683 entries, 4 to 63325\n",
      "Data columns (total 80 columns):\n",
      " #   Column                                            Non-Null Count  Dtype  \n",
      "---  ------                                            --------------  -----  \n",
      " 0   Duration                                          44683 non-null  int64  \n",
      " 1   Net Sales                                         44683 non-null  float64\n",
      " 2   Commision (in value)                              44683 non-null  float64\n",
      " 3   Age                                               44683 non-null  int64  \n",
      " 4   Agency_ART                                        44683 non-null  uint8  \n",
      " 5   Agency_C2B                                        44683 non-null  uint8  \n",
      " 6   Agency_CBH                                        44683 non-null  uint8  \n",
      " 7   Agency_CCR                                        44683 non-null  uint8  \n",
      " 8   Agency_CSR                                        44683 non-null  uint8  \n",
      " 9   Agency_CWT                                        44683 non-null  uint8  \n",
      " 10  Agency_EPX                                        44683 non-null  uint8  \n",
      " 11  Agency_JZI                                        44683 non-null  uint8  \n",
      " 12  Agency_KML                                        44683 non-null  uint8  \n",
      " 13  Agency_LWC                                        44683 non-null  uint8  \n",
      " 14  Agency_RAB                                        44683 non-null  uint8  \n",
      " 15  Agency_SSI                                        44683 non-null  uint8  \n",
      " 16  Agency_TST                                        44683 non-null  uint8  \n",
      " 17  Agency Type_Airlines                              44683 non-null  uint8  \n",
      " 18  Agency Type_Travel Agency                         44683 non-null  uint8  \n",
      " 19  Product Name_1 way Comprehensive Plan             44683 non-null  uint8  \n",
      " 20  Product Name_2 way Comprehensive Plan             44683 non-null  uint8  \n",
      " 21  Product Name_24 Protect                           44683 non-null  uint8  \n",
      " 22  Product Name_Basic Plan                           44683 non-null  uint8  \n",
      " 23  Product Name_Bronze Plan                          44683 non-null  uint8  \n",
      " 24  Product Name_Cancellation Plan                    44683 non-null  uint8  \n",
      " 25  Product Name_Comprehensive Plan                   44683 non-null  uint8  \n",
      " 26  Product Name_Gold Plan                            44683 non-null  uint8  \n",
      " 27  Product Name_Premier Plan                         44683 non-null  uint8  \n",
      " 28  Product Name_Rental Vehicle Excess Insurance      44683 non-null  uint8  \n",
      " 29  Product Name_Silver Plan                          44683 non-null  uint8  \n",
      " 30  Product Name_Single Trip Travel Protect Gold      44683 non-null  uint8  \n",
      " 31  Product Name_Single Trip Travel Protect Platinum  44683 non-null  uint8  \n",
      " 32  Product Name_Single Trip Travel Protect Silver    44683 non-null  uint8  \n",
      " 33  Product Name_Ticket Protector                     44683 non-null  uint8  \n",
      " 34  Product Name_Travel Cruise Protect                44683 non-null  uint8  \n",
      " 35  Product Name_Travel Cruise Protect Family         44683 non-null  uint8  \n",
      " 36  Product Name_Value Plan                           44683 non-null  uint8  \n",
      " 37  Distribution Channel_Offline                      44683 non-null  uint8  \n",
      " 38  Distribution Channel_Online                       44683 non-null  uint8  \n",
      " 39  Destination_AUSTRALIA                             44683 non-null  uint8  \n",
      " 40  Destination_AUSTRIA                               44683 non-null  uint8  \n",
      " 41  Destination_BANGLADESH                            44683 non-null  uint8  \n",
      " 42  Destination_BRUNEI DARUSSALAM                     44683 non-null  uint8  \n",
      " 43  Destination_CAMBODIA                              44683 non-null  uint8  \n",
      " 44  Destination_CANADA                                44683 non-null  uint8  \n",
      " 45  Destination_CHINA                                 44683 non-null  uint8  \n",
      " 46  Destination_FRANCE                                44683 non-null  uint8  \n",
      " 47  Destination_GERMANY                               44683 non-null  uint8  \n",
      " 48  Destination_GREECE                                44683 non-null  uint8  \n",
      " 49  Destination_HONG KONG                             44683 non-null  uint8  \n",
      " 50  Destination_INDIA                                 44683 non-null  uint8  \n",
      " 51  Destination_INDONESIA                             44683 non-null  uint8  \n",
      " 52  Destination_IRELAND                               44683 non-null  uint8  \n",
      " 53  Destination_ITALY                                 44683 non-null  uint8  \n",
      " 54  Destination_JAPAN                                 44683 non-null  uint8  \n",
      " 55  Destination_KOREA, REPUBLIC OF                    44683 non-null  uint8  \n",
      " 56  Destination_LAO PEOPLE'S DEMOCRATIC REPUBLIC      44683 non-null  uint8  \n",
      " 57  Destination_MACAO                                 44683 non-null  uint8  \n",
      " 58  Destination_MALAYSIA                              44683 non-null  uint8  \n",
      " 59  Destination_MYANMAR                               44683 non-null  uint8  \n",
      " 60  Destination_NEPAL                                 44683 non-null  uint8  \n",
      " 61  Destination_NETHERLANDS                           44683 non-null  uint8  \n",
      " 62  Destination_NEW ZEALAND                           44683 non-null  uint8  \n",
      " 63  Destination_NORWAY                                44683 non-null  uint8  \n",
      " 64  Destination_PHILIPPINES                           44683 non-null  uint8  \n",
      " 65  Destination_RUSSIAN FEDERATION                    44683 non-null  uint8  \n",
      " 66  Destination_SAUDI ARABIA                          44683 non-null  uint8  \n",
      " 67  Destination_SINGAPORE                             44683 non-null  uint8  \n",
      " 68  Destination_SOUTH AFRICA                          44683 non-null  uint8  \n",
      " 69  Destination_SPAIN                                 44683 non-null  uint8  \n",
      " 70  Destination_SRI LANKA                             44683 non-null  uint8  \n",
      " 71  Destination_SWITZERLAND                           44683 non-null  uint8  \n",
      " 72  Destination_TAIWAN, PROVINCE OF CHINA             44683 non-null  uint8  \n",
      " 73  Destination_THAILAND                              44683 non-null  uint8  \n",
      " 74  Destination_UNITED ARAB EMIRATES                  44683 non-null  uint8  \n",
      " 75  Destination_UNITED KINGDOM                        44683 non-null  uint8  \n",
      " 76  Destination_UNITED STATES                         44683 non-null  uint8  \n",
      " 77  Destination_VIET NAM                              44683 non-null  uint8  \n",
      " 78  Claim_No                                          44683 non-null  uint8  \n",
      " 79  Claim_Yes                                         44683 non-null  uint8  \n",
      "dtypes: float64(2), int64(2), uint8(76)\n",
      "memory usage: 4.9 MB\n",
      "None\n"
     ]
    }
   ],
   "source": [
    "print(result.info())"
   ]
  },
  {
   "cell_type": "markdown",
   "metadata": {},
   "source": [
    "### Train-Test Split"
   ]
  },
  {
   "cell_type": "code",
   "execution_count": 22,
   "metadata": {},
   "outputs": [
    {
     "data": {
      "text/plain": [
       "9"
      ]
     },
     "execution_count": 22,
     "metadata": {},
     "output_type": "execute_result"
    }
   ],
   "source": [
    "df.columns.get_loc(\"Claim\")"
   ]
  },
  {
   "cell_type": "code",
   "execution_count": 23,
   "metadata": {},
   "outputs": [],
   "source": [
    "X = result.iloc[:,:-1]\n",
    "y = result[\"Claim_Yes\"]"
   ]
  },
  {
   "cell_type": "code",
   "execution_count": 24,
   "metadata": {},
   "outputs": [
    {
     "data": {
      "text/html": [
       "<div>\n",
       "<style scoped>\n",
       "    .dataframe tbody tr th:only-of-type {\n",
       "        vertical-align: middle;\n",
       "    }\n",
       "\n",
       "    .dataframe tbody tr th {\n",
       "        vertical-align: top;\n",
       "    }\n",
       "\n",
       "    .dataframe thead th {\n",
       "        text-align: right;\n",
       "    }\n",
       "</style>\n",
       "<table border=\"1\" class=\"dataframe\">\n",
       "  <thead>\n",
       "    <tr style=\"text-align: right;\">\n",
       "      <th></th>\n",
       "      <th>Agency</th>\n",
       "      <th>Agency Type</th>\n",
       "      <th>Distribution Channel</th>\n",
       "      <th>Product Name</th>\n",
       "      <th>Duration</th>\n",
       "      <th>Destination</th>\n",
       "      <th>Net Sales</th>\n",
       "      <th>Commision (in value)</th>\n",
       "      <th>Age</th>\n",
       "      <th>Claim</th>\n",
       "      <th>Claim_Yes</th>\n",
       "    </tr>\n",
       "  </thead>\n",
       "  <tbody>\n",
       "    <tr>\n",
       "      <th>4</th>\n",
       "      <td>CWT</td>\n",
       "      <td>Travel Agency</td>\n",
       "      <td>Online</td>\n",
       "      <td>Rental Vehicle Excess Insurance</td>\n",
       "      <td>79</td>\n",
       "      <td>ITALY</td>\n",
       "      <td>-19.8</td>\n",
       "      <td>11.88</td>\n",
       "      <td>41</td>\n",
       "      <td>No</td>\n",
       "      <td>0</td>\n",
       "    </tr>\n",
       "    <tr>\n",
       "      <th>8</th>\n",
       "      <td>CWT</td>\n",
       "      <td>Travel Agency</td>\n",
       "      <td>Online</td>\n",
       "      <td>Rental Vehicle Excess Insurance</td>\n",
       "      <td>57</td>\n",
       "      <td>THAILAND</td>\n",
       "      <td>-19.8</td>\n",
       "      <td>11.88</td>\n",
       "      <td>44</td>\n",
       "      <td>No</td>\n",
       "      <td>0</td>\n",
       "    </tr>\n",
       "    <tr>\n",
       "      <th>11</th>\n",
       "      <td>JZI</td>\n",
       "      <td>Airlines</td>\n",
       "      <td>Online</td>\n",
       "      <td>Basic Plan</td>\n",
       "      <td>1</td>\n",
       "      <td>MALAYSIA</td>\n",
       "      <td>-18.0</td>\n",
       "      <td>6.30</td>\n",
       "      <td>47</td>\n",
       "      <td>No</td>\n",
       "      <td>0</td>\n",
       "    </tr>\n",
       "    <tr>\n",
       "      <th>14</th>\n",
       "      <td>EPX</td>\n",
       "      <td>Travel Agency</td>\n",
       "      <td>Online</td>\n",
       "      <td>2 way Comprehensive Plan</td>\n",
       "      <td>39</td>\n",
       "      <td>VIET NAM</td>\n",
       "      <td>-25.0</td>\n",
       "      <td>0.00</td>\n",
       "      <td>36</td>\n",
       "      <td>No</td>\n",
       "      <td>0</td>\n",
       "    </tr>\n",
       "    <tr>\n",
       "      <th>18</th>\n",
       "      <td>JZI</td>\n",
       "      <td>Airlines</td>\n",
       "      <td>Online</td>\n",
       "      <td>Basic Plan</td>\n",
       "      <td>3</td>\n",
       "      <td>MALAYSIA</td>\n",
       "      <td>-18.0</td>\n",
       "      <td>6.30</td>\n",
       "      <td>47</td>\n",
       "      <td>No</td>\n",
       "      <td>0</td>\n",
       "    </tr>\n",
       "  </tbody>\n",
       "</table>\n",
       "</div>"
      ],
      "text/plain": [
       "   Agency    Agency Type Distribution Channel  \\\n",
       "4     CWT  Travel Agency               Online   \n",
       "8     CWT  Travel Agency               Online   \n",
       "11    JZI       Airlines               Online   \n",
       "14    EPX  Travel Agency               Online   \n",
       "18    JZI       Airlines               Online   \n",
       "\n",
       "                       Product Name  Duration Destination  Net Sales  \\\n",
       "4   Rental Vehicle Excess Insurance        79       ITALY      -19.8   \n",
       "8   Rental Vehicle Excess Insurance        57    THAILAND      -19.8   \n",
       "11                       Basic Plan         1    MALAYSIA      -18.0   \n",
       "14         2 way Comprehensive Plan        39    VIET NAM      -25.0   \n",
       "18                       Basic Plan         3    MALAYSIA      -18.0   \n",
       "\n",
       "    Commision (in value)  Age Claim  Claim_Yes  \n",
       "4                  11.88   41    No          0  \n",
       "8                  11.88   44    No          0  \n",
       "11                  6.30   47    No          0  \n",
       "14                  0.00   36    No          0  \n",
       "18                  6.30   47    No          0  "
      ]
     },
     "execution_count": 24,
     "metadata": {},
     "output_type": "execute_result"
    }
   ],
   "source": [
    "EDA = pd.merge(df, y, left_index=True, right_index=True)\n",
    "EDA.head()"
   ]
  },
  {
   "cell_type": "markdown",
   "metadata": {},
   "source": [
    "Checking for Imbalancy in the Data set."
   ]
  },
  {
   "cell_type": "code",
   "execution_count": 25,
   "metadata": {},
   "outputs": [
    {
     "name": "stdout",
     "output_type": "stream",
     "text": [
      "(44683, 79)\n",
      "(44683,)\n"
     ]
    }
   ],
   "source": [
    "print(X.shape)\n",
    "print(y.shape)"
   ]
  },
  {
   "cell_type": "code",
   "execution_count": 26,
   "metadata": {},
   "outputs": [
    {
     "data": {
      "text/plain": [
       "Text(0, 0.5, 'Channel')"
      ]
     },
     "execution_count": 26,
     "metadata": {},
     "output_type": "execute_result"
    },
    {
     "data": {
      "image/png": "[encoded data removed]",
      "text/plain": [
       "<Figure size 600x400 with 1 Axes>"
      ]
     },
     "metadata": {},
     "output_type": "display_data"
    }
   ],
   "source": [
    "count_classes = pd.value_counts(df['Claim'], sort = True)\n",
    "\n",
    "count_classes.plot(kind = 'bar', rot=0)\n",
    "\n",
    "plt.title(\"Transaction Claim Distribution\")\n",
    "\n",
    "# plt.xticks(range(2), LABELS)\n",
    "\n",
    "plt.xlabel(\"Transaction\")\n",
    "\n",
    "plt.ylabel(\"Channel\")"
   ]
  },
  {
   "cell_type": "markdown",
   "metadata": {},
   "source": [
    "This shows that the data is imbalanced as the Bar plot show."
   ]
  },
  {
   "cell_type": "code",
   "execution_count": 27,
   "metadata": {},
   "outputs": [],
   "source": [
    "#Get the Claimed and the Non--claimed Transaction.\n",
    "\n",
    "Claimed = EDA[EDA[\"Claim\"]==1]\n",
    "Unclaimed = EDA[EDA[\"Claim\"]==0]"
   ]
  },
  {
   "cell_type": "code",
   "execution_count": 28,
   "metadata": {},
   "outputs": [
    {
     "name": "stdout",
     "output_type": "stream",
     "text": [
      "(0, 11) (0, 11)\n"
     ]
    }
   ],
   "source": [
    "print(Claimed.shape,Unclaimed.shape)"
   ]
  },
  {
   "cell_type": "markdown",
   "metadata": {},
   "source": [
    "Highly Imbalanced data"
   ]
  },
  {
   "cell_type": "markdown",
   "metadata": {},
   "source": [
    "Performing Under-Sampling"
   ]
  },
  {
   "cell_type": "code",
   "execution_count": 29,
   "metadata": {},
   "outputs": [],
   "source": [
    "from imblearn.under_sampling import NearMiss"
   ]
  },
  {
   "cell_type": "code",
   "execution_count": 30,
   "metadata": {},
   "outputs": [],
   "source": [
    "# Implementing Undersampling for Handling Imbalanced \n",
    "nm = NearMiss()\n",
    "X_res,y_res=nm.fit_sample(X,y)"
   ]
  },
  {
   "cell_type": "code",
   "execution_count": 31,
   "metadata": {},
   "outputs": [
    {
     "name": "stdout",
     "output_type": "stream",
     "text": [
      "(972, 79) (972,)\n"
     ]
    }
   ],
   "source": [
    "print(X_res.shape,y_res.shape)"
   ]
  },
  {
   "cell_type": "code",
   "execution_count": 32,
   "metadata": {},
   "outputs": [
    {
     "name": "stdout",
     "output_type": "stream",
     "text": [
      "Original dataset shape Counter({0: 44197, 1: 486})\n",
      "Resampled dataset shape Counter({0: 486, 1: 486})\n"
     ]
    }
   ],
   "source": [
    "from collections import Counter\n",
    "print('Original dataset shape {}'.format(Counter(y)))\n",
    "print('Resampled dataset shape {}'.format(Counter(y_res)))"
   ]
  },
  {
   "cell_type": "markdown",
   "metadata": {},
   "source": [
    "Performing Over Sampling"
   ]
  },
  {
   "cell_type": "code",
   "execution_count": 33,
   "metadata": {},
   "outputs": [],
   "source": [
    "from imblearn.combine import SMOTETomek\n",
    "from imblearn.under_sampling import NearMiss"
   ]
  },
  {
   "cell_type": "code",
   "execution_count": 34,
   "metadata": {},
   "outputs": [],
   "source": [
    "# Implementing Oversampling for Handling Imbalanced \n",
    "smk = SMOTETomek()\n",
    "X,y=smk.fit_sample(X,y)"
   ]
  },
  {
   "cell_type": "code",
   "execution_count": 35,
   "metadata": {},
   "outputs": [
    {
     "data": {
      "text/plain": [
       "((88388, 79), (88388,))"
      ]
     },
     "execution_count": 35,
     "metadata": {},
     "output_type": "execute_result"
    }
   ],
   "source": [
    "X.shape,y.shape"
   ]
  },
  {
   "cell_type": "code",
   "execution_count": 36,
   "metadata": {},
   "outputs": [
    {
     "name": "stdout",
     "output_type": "stream",
     "text": [
      "Original dataset shape Counter({0: 44194, 1: 44194})\n",
      "Resampled dataset shape Counter({0: 486, 1: 486})\n"
     ]
    }
   ],
   "source": [
    "from collections import Counter\n",
    "print('Original dataset shape {}'.format(Counter(y)))\n",
    "print('Resampled dataset shape {}'.format(Counter(y_res)))"
   ]
  },
  {
   "cell_type": "markdown",
   "metadata": {},
   "source": [
    "Random Over Sampling"
   ]
  },
  {
   "cell_type": "code",
   "execution_count": 37,
   "metadata": {},
   "outputs": [],
   "source": [
    "from imblearn.over_sampling import RandomOverSampler"
   ]
  },
  {
   "cell_type": "code",
   "execution_count": 38,
   "metadata": {},
   "outputs": [],
   "source": [
    "os =  RandomOverSampler() # ration argument didn't work"
   ]
  },
  {
   "cell_type": "code",
   "execution_count": 39,
   "metadata": {},
   "outputs": [],
   "source": [
    "X_train_res, y_train_res = os.fit_sample(X, y)"
   ]
  },
  {
   "cell_type": "code",
   "execution_count": 40,
   "metadata": {},
   "outputs": [
    {
     "data": {
      "text/plain": [
       "((88388, 79), (88388,))"
      ]
     },
     "execution_count": 40,
     "metadata": {},
     "output_type": "execute_result"
    }
   ],
   "source": [
    "X_train_res.shape,y_train_res.shape"
   ]
  },
  {
   "cell_type": "code",
   "execution_count": 41,
   "metadata": {},
   "outputs": [
    {
     "name": "stdout",
     "output_type": "stream",
     "text": [
      "Original dataset shape Counter({0: 44194, 1: 44194})\n",
      "Resampled dataset shape Counter({0: 44194, 1: 44194})\n"
     ]
    }
   ],
   "source": [
    "print('Original dataset shape {}'.format(Counter(y)))\n",
    "print('Resampled dataset shape {}'.format(Counter(y_train_res)))"
   ]
  },
  {
   "cell_type": "markdown",
   "metadata": {},
   "source": [
    "Top Feature Selection "
   ]
  },
  {
   "cell_type": "code",
   "execution_count": 42,
   "metadata": {},
   "outputs": [],
   "source": [
    "from sklearn.feature_selection import RFE\n",
    "from sklearn.feature_selection import RFECV\n",
    "from sklearn.feature_selection import SelectKBest,f_classif"
   ]
  },
  {
   "cell_type": "code",
   "execution_count": 43,
   "metadata": {},
   "outputs": [],
   "source": [
    "import warnings"
   ]
  },
  {
   "cell_type": "markdown",
   "metadata": {},
   "source": [
    "Model Building"
   ]
  },
  {
   "cell_type": "code",
   "execution_count": 44,
   "metadata": {},
   "outputs": [],
   "source": [
    "from sklearn.model_selection import train_test_split\n",
    "\n",
    "X_train, X_test, y_train, y_test = train_test_split(X, y, test_size=0.3, random_state=0)\n",
    "\n",
    "# print(len(X_train.index))\n",
    "# print(len(X_test.index))\n",
    "# print(y_train.sum())\n",
    "# print(y_test.sum())"
   ]
  },
  {
   "cell_type": "code",
   "execution_count": 45,
   "metadata": {},
   "outputs": [
    {
     "name": "stderr",
     "output_type": "stream",
     "text": [
      "/home/vikram/anaconda3/lib/python3.8/site-packages/sklearn/linear_model/_logistic.py:762: ConvergenceWarning:\n",
      "\n",
      "lbfgs failed to converge (status=1):\n",
      "STOP: TOTAL NO. of ITERATIONS REACHED LIMIT.\n",
      "\n",
      "Increase the number of iterations (max_iter) or scale the data as shown in:\n",
      "    https://scikit-learn.org/stable/modules/preprocessing.html\n",
      "Please also refer to the documentation for alternative solver options:\n",
      "    https://scikit-learn.org/stable/modules/linear_model.html#logistic-regression\n",
      "\n"
     ]
    }
   ],
   "source": [
    "from sklearn.linear_model import LogisticRegression\n",
    "\n",
    "lg= LogisticRegression()\n",
    "lg.fit(X_train,y_train)\n",
    "\n",
    "y_train_pred = lg.predict(X_train)\n",
    "y_test_pred = lg.predict(X_test)"
   ]
  },
  {
   "cell_type": "code",
   "execution_count": 46,
   "metadata": {},
   "outputs": [
    {
     "data": {
      "text/plain": [
       "array([[ 3.64135118e-03,  1.23404068e-02, -8.05277055e-03,\n",
       "         7.91761583e-03, -1.56168085e-01,  5.67506095e-01,\n",
       "         8.71210863e-04,  1.04024187e-02, -2.21740861e-03,\n",
       "        -2.51591496e-01, -3.18657932e-01, -4.27692450e-01,\n",
       "        -2.27099981e-01, -1.21426879e-01, -1.35598760e-01,\n",
       "        -2.17827933e-01, -2.84069369e-02,  2.71393807e-01,\n",
       "        -1.68648018e-01, -5.30988166e-01, -2.73096977e-02,\n",
       "        -1.42022306e-01, -2.65706396e-01, -2.44442846e-01,\n",
       "        -1.31766455e+00,  1.00069126e-02, -3.74322622e-01,\n",
       "        -7.48409958e-02, -2.51591496e-01, -5.39342827e-01,\n",
       "        -3.55242343e-02, -3.09492539e-02, -6.23399083e-02,\n",
       "        -2.17827933e-01, -2.83443762e-02, -6.25606805e-05,\n",
       "        -4.81108647e-01, -2.00276138e-02,  1.50369990e+00,\n",
       "        -3.10318667e-01, -2.49568582e-02, -2.27548067e-02,\n",
       "        -1.48319695e-01, -1.19674662e-01, -9.95246050e-02,\n",
       "        -2.44912522e-01, -1.00186618e-01, -1.05203304e-01,\n",
       "        -1.73534070e-02, -3.91695265e-01, -2.73862433e-01,\n",
       "        -3.98940123e-01, -3.64292980e-02, -7.70654840e-02,\n",
       "        -3.59263170e-01, -2.20159964e-01, -3.43461962e-02,\n",
       "        -2.77356282e-02, -4.42620211e-01, -1.49447800e-01,\n",
       "        -2.90647285e-02, -1.38392232e-01, -8.49964246e-02,\n",
       "        -2.99711009e-02, -4.16642267e-01, -1.34127191e-02,\n",
       "        -2.20540695e-02, -2.60140615e-01, -2.14297901e-02,\n",
       "        -4.82454760e-02, -6.81791977e-02, -4.52113067e-02,\n",
       "        -2.25711486e-01, -5.85452740e-01, -7.66952583e-02,\n",
       "        -2.21092638e-01, -3.23489026e-01, -2.85795413e-01,\n",
       "        -1.44125775e+01]])"
      ]
     },
     "execution_count": 46,
     "metadata": {},
     "output_type": "execute_result"
    }
   ],
   "source": [
    "# Finding the Co-effiecnt \n",
    "lg.coef_"
   ]
  },
  {
   "cell_type": "code",
   "execution_count": 47,
   "metadata": {},
   "outputs": [],
   "source": [
    "# To avoid the warring errors\n",
    "import warnings\n",
    "warnings.filterwarnings(\"ignore\")"
   ]
  },
  {
   "cell_type": "code",
   "execution_count": 48,
   "metadata": {},
   "outputs": [
    {
     "name": "stdout",
     "output_type": "stream",
     "text": [
      "\n",
      " Train Data \n",
      "Recall_Score = 1.0\n",
      "precision_score = 1.0\n",
      "f1_score =  1.0\n",
      "1.0\n",
      "\n",
      " Test Data \n",
      "1.Report:\n",
      "               precision    recall  f1-score   support\n",
      "\n",
      "           0       1.00      1.00      1.00     13145\n",
      "           1       1.00      1.00      1.00     13372\n",
      "\n",
      "    accuracy                           1.00     26517\n",
      "   macro avg       1.00      1.00      1.00     26517\n",
      "weighted avg       1.00      1.00      1.00     26517\n",
      "\n",
      "2.F1 Score for Logistic Reg: 1.0\n",
      "\n",
      "\n",
      "3.confusion Matrix for Logistic Reg:\n",
      " [[13145     0]\n",
      " [    0 13372]]\n",
      "\n",
      "\n",
      "4.cross validation: [1. 1. 1.]\n",
      "\n",
      "\n",
      "5.accuracy score:  1.0\n"
     ]
    }
   ],
   "source": [
    "# import metrics\n",
    "from sklearn.metrics import classification_report\n",
    "from sklearn.metrics import confusion_matrix\n",
    "from sklearn.model_selection import cross_val_score\n",
    "from sklearn.metrics import recall_score, precision_score,f1_score,accuracy_score\n",
    "print(\"\\n Train Data \")\n",
    "print(\"Recall_Score =\",recall_score(y_train,y_train_pred))\n",
    "print(\"precision_score =\",precision_score(y_train,y_train_pred))\n",
    "print(\"f1_score = \",f1_score(y_train,y_train_pred))\n",
    "print(accuracy_score(y_train,y_train_pred))\n",
    "\n",
    "\n",
    "# test data\n",
    "print(\"\\n Test Data \")\n",
    "print('1.Report:\\n',classification_report(y_test, y_test_pred))\n",
    "print(\"2.F1 Score for Logistic Reg:\",f1_score(y_test_pred,y_test))\n",
    "print(\"\\n\")\n",
    "print('3.confusion Matrix for Logistic Reg:\\n',confusion_matrix(y_test_pred,y_test))\n",
    "print(\"\\n\")\n",
    "print('4.cross validation:',cross_val_score(lg, X, y, cv=3))\n",
    "print(\"\\n\")\n",
    "print(\"5.accuracy score: \",accuracy_score(y_test,y_test_pred))"
   ]
  },
  {
   "cell_type": "code",
   "execution_count": 49,
   "metadata": {},
   "outputs": [
    {
     "name": "stdout",
     "output_type": "stream",
     "text": [
      "[0 1 1 ... 0 0 1]\n",
      "[1 1 1 ... 1 1 1]\n"
     ]
    }
   ],
   "source": [
    "from sklearn.tree import DecisionTreeClassifier\n",
    "dc_model = DecisionTreeClassifier(random_state=0,max_depth= 3) # max_depth decide the amount of time we will divide it \n",
    "\n",
    "dc_model.fit(X_train,y_train)\n",
    "\n",
    "y_train_pred = dc_model.predict(X_train)\n",
    "y_test_pred = dc_model.predict(X_test)\n",
    "\n",
    "print(y_train_pred)\n",
    "print(y_test_pred)"
   ]
  },
  {
   "cell_type": "code",
   "execution_count": 50,
   "metadata": {},
   "outputs": [
    {
     "name": "stdout",
     "output_type": "stream",
     "text": [
      "\n",
      " Train Data \n",
      "Recall_Score = 1.0\n",
      "precision_score = 1.0\n",
      "f1_score =  1.0\n",
      "1.0\n",
      "\n",
      " Test Data \n",
      "1.Report:\n",
      "               precision    recall  f1-score   support\n",
      "\n",
      "           0       1.00      1.00      1.00     13145\n",
      "           1       1.00      1.00      1.00     13372\n",
      "\n",
      "    accuracy                           1.00     26517\n",
      "   macro avg       1.00      1.00      1.00     26517\n",
      "weighted avg       1.00      1.00      1.00     26517\n",
      "\n",
      "2.F1 Score for Logistic Reg: 1.0\n",
      "\n",
      "\n",
      "3.confusion Matrix for Logistic Reg:\n",
      " [[13145     0]\n",
      " [    0 13372]]\n",
      "\n",
      "\n",
      "4.cross validation: [1. 1. 1.]\n",
      "\n",
      "\n",
      "5.accuracy score:  1.0\n"
     ]
    },
    {
     "data": {
      "text/plain": [
       "array([0., 0., 0., 0., 0., 0., 0., 0., 0., 0., 0., 0., 0., 0., 0., 0., 0.,\n",
       "       0., 0., 0., 0., 0., 0., 0., 0., 0., 0., 0., 0., 0., 0., 0., 0., 0.,\n",
       "       0., 0., 0., 0., 0., 0., 0., 0., 0., 0., 0., 0., 0., 0., 0., 0., 0.,\n",
       "       0., 0., 0., 0., 0., 0., 0., 0., 0., 0., 0., 0., 0., 0., 0., 0., 0.,\n",
       "       0., 0., 0., 0., 0., 0., 0., 0., 0., 0., 1.])"
      ]
     },
     "execution_count": 50,
     "metadata": {},
     "output_type": "execute_result"
    }
   ],
   "source": [
    "# import metrics\n",
    "\n",
    "from sklearn.metrics import recall_score, precision_score,f1_score\n",
    "print(\"\\n Train Data \")\n",
    "print(\"Recall_Score =\",recall_score(y_train,y_train_pred))\n",
    "print(\"precision_score =\",precision_score(y_train,y_train_pred))\n",
    "print(\"f1_score = \",f1_score(y_train,y_train_pred))\n",
    "print(accuracy_score(y_train,y_train_pred))\n",
    "\n",
    "\n",
    "# test data\n",
    "print(\"\\n Test Data \")\n",
    "print('1.Report:\\n',classification_report(y_test, y_test_pred))\n",
    "print(\"2.F1 Score for Logistic Reg:\",f1_score(y_test_pred,y_test))\n",
    "print(\"\\n\")\n",
    "print('3.confusion Matrix for Logistic Reg:\\n',confusion_matrix(y_test_pred,y_test))\n",
    "print(\"\\n\")\n",
    "print('4.cross validation:',cross_val_score(dc_model, X, y, cv=3))\n",
    "print(\"\\n\")\n",
    "print(\"5.accuracy score: \",accuracy_score(y_test,y_test_pred))\n",
    "dc_model.feature_importances_"
   ]
  },
  {
   "cell_type": "code",
   "execution_count": 51,
   "metadata": {},
   "outputs": [
    {
     "name": "stdout",
     "output_type": "stream",
     "text": [
      "[0 0 0 ... 1 0 1]\n",
      "[1 0 1 ... 0 1 1]\n"
     ]
    }
   ],
   "source": [
    "# Random Forest \n",
    "\n",
    "from sklearn.ensemble import RandomForestClassifier\n",
    "rf_model = RandomForestClassifier(n_estimators=30,max_depth=7,\n",
    "                                  max_features=2)\n",
    "\n",
    "rf_model.fit(X_train,y_train)\n",
    "\n",
    "y_train_pred = rf_model.predict(X_train)\n",
    "y_test_pred = rf_model.predict(X_test)\n",
    "\n",
    "\n",
    "print(y_train_pred)\n",
    "print(y_test_pred)"
   ]
  },
  {
   "cell_type": "code",
   "execution_count": 52,
   "metadata": {},
   "outputs": [
    {
     "name": "stdout",
     "output_type": "stream",
     "text": [
      "\n",
      " Train Data \n",
      "Recall_Score = 0.7538446564142496\n",
      "precision_score = 0.876098186342898\n",
      "f1_score =  0.8103866208604363\n",
      "0.8242633867239902\n",
      "\n",
      " Test Data \n",
      "1.Report:\n",
      "               precision    recall  f1-score   support\n",
      "\n",
      "           0       0.78      0.90      0.84     13145\n",
      "           1       0.88      0.76      0.81     13372\n",
      "\n",
      "    accuracy                           0.83     26517\n",
      "   macro avg       0.83      0.83      0.83     26517\n",
      "weighted avg       0.83      0.83      0.83     26517\n",
      "\n",
      "2.F1 Score for Logistic Reg: 0.8142811141523104\n",
      "\n",
      "\n",
      "3.confusion Matrix for Logistic Reg:\n",
      " [[11788  3257]\n",
      " [ 1357 10115]]\n",
      "\n",
      "\n",
      "4.cross validation: [0.97417099 0.9905305  0.94789899]\n",
      "\n",
      "\n",
      "5.accuracy score:  0.8259984161104197\n"
     ]
    }
   ],
   "source": [
    "# Random Forest Metrics\n",
    "\n",
    "from sklearn.metrics import recall_score, precision_score,f1_score,accuracy_score\n",
    "print(\"\\n Train Data \")\n",
    "print(\"Recall_Score =\",recall_score(y_train,y_train_pred))\n",
    "print(\"precision_score =\",precision_score(y_train,y_train_pred))\n",
    "print(\"f1_score = \",f1_score(y_train,y_train_pred))\n",
    "print(accuracy_score(y_train,y_train_pred))\n",
    "\n",
    "# test data\n",
    "print(\"\\n Test Data \")\n",
    "print('1.Report:\\n',classification_report(y_test, y_test_pred))\n",
    "print(\"2.F1 Score for Logistic Reg:\",f1_score(y_test_pred,y_test))\n",
    "print(\"\\n\")\n",
    "print('3.confusion Matrix for Logistic Reg:\\n',confusion_matrix(y_test_pred,y_test))\n",
    "print(\"\\n\")\n",
    "print('4.cross validation:',cross_val_score(rf_model, X, y, cv=3))\n",
    "print(\"\\n\")\n",
    "print(\"5.accuracy score: \",accuracy_score(y_test,y_test_pred))"
   ]
  },
  {
   "cell_type": "code",
   "execution_count": 53,
   "metadata": {},
   "outputs": [],
   "source": [
    "def logistic_model():\n",
    "    print('1.Report:\\n',classification_report(y_test, y_test_pred))\n",
    "    print(\"2.F1 Score for Logistic Reg:\",f1_score(y_test_pred,y_test))\n",
    "    print(\"\\n\")\n",
    "    print('3.confusion Matrix for Logistic Reg:\\n',confusion_matrix(y_test_pred,y_test))\n",
    "    print(\"\\n\")\n",
    "    print('4.cross validation:',cross_val_score(lg, X, y, cv=3))\n",
    "    print(\"\\n\")\n",
    "    print(\"5.accuracy score: \",accuracy_score(y_test,y_test_pred))"
   ]
  },
  {
   "cell_type": "code",
   "execution_count": 54,
   "metadata": {},
   "outputs": [],
   "source": [
    "def random_model():\n",
    "    print('1.Report:\\n',classification_report(y_test, y_test_pred))\n",
    "    print(\"2.F1 Score for Logistic Reg:\",f1_score(y_test_pred,y_test))\n",
    "    print(\"\\n\")\n",
    "    print('3.confusion Matrix for Logistic Reg:\\n',confusion_matrix(y_test_pred,y_test))\n",
    "    print(\"\\n\")\n",
    "    print('4.cross validation:',cross_val_score(rf_model, X, y, cv=3))\n",
    "    print(\"\\n\")\n",
    "    print(\"5.accuracy score: \",accuracy_score(y_test,y_test_pred))"
   ]
  },
  {
   "cell_type": "code",
   "execution_count": 55,
   "metadata": {},
   "outputs": [],
   "source": [
    "def decision_model():\n",
    "    print('1.Report:\\n',classification_report(y_test, y_test_pred))\n",
    "    print(\"2.F1 Score for Logistic Reg:\",f1_score(y_test_pred,y_test))\n",
    "    print(\"\\n\")\n",
    "    print('3.confusion Matrix for Logistic Reg:\\n',confusion_matrix(y_test_pred,y_test))\n",
    "    print(\"\\n\")\n",
    "    print('4.cross validation:',cross_val_score(dc_model, X, y, cv=3))\n",
    "    print(\"\\n\")\n",
    "    print(\"5.accuracy score: \",accuracy_score(y_test,y_test_pred))"
   ]
  },
  {
   "cell_type": "code",
   "execution_count": 56,
   "metadata": {},
   "outputs": [
    {
     "name": "stdout",
     "output_type": "stream",
     "text": [
      "1.Report:\n",
      "               precision    recall  f1-score   support\n",
      "\n",
      "           0       0.78      0.90      0.84     13145\n",
      "           1       0.88      0.76      0.81     13372\n",
      "\n",
      "    accuracy                           0.83     26517\n",
      "   macro avg       0.83      0.83      0.83     26517\n",
      "weighted avg       0.83      0.83      0.83     26517\n",
      "\n",
      "2.F1 Score for Logistic Reg: 0.8142811141523104\n",
      "\n",
      "\n",
      "3.confusion Matrix for Logistic Reg:\n",
      " [[11788  3257]\n",
      " [ 1357 10115]]\n",
      "\n",
      "\n",
      "4.cross validation: [1. 1. 1.]\n",
      "\n",
      "\n",
      "5.accuracy score:  0.8259984161104197\n",
      "logistic Model None\n",
      "1.Report:\n",
      "               precision    recall  f1-score   support\n",
      "\n",
      "           0       0.78      0.90      0.84     13145\n",
      "           1       0.88      0.76      0.81     13372\n",
      "\n",
      "    accuracy                           0.83     26517\n",
      "   macro avg       0.83      0.83      0.83     26517\n",
      "weighted avg       0.83      0.83      0.83     26517\n",
      "\n",
      "2.F1 Score for Logistic Reg: 0.8142811141523104\n",
      "\n",
      "\n",
      "3.confusion Matrix for Logistic Reg:\n",
      " [[11788  3257]\n",
      " [ 1357 10115]]\n",
      "\n",
      "\n",
      "4.cross validation: [0.99674168 0.92397244 0.81976784]\n",
      "\n",
      "\n",
      "5.accuracy score:  0.8259984161104197\n",
      "\n",
      " Random Model None\n",
      "1.Report:\n",
      "               precision    recall  f1-score   support\n",
      "\n",
      "           0       0.78      0.90      0.84     13145\n",
      "           1       0.88      0.76      0.81     13372\n",
      "\n",
      "    accuracy                           0.83     26517\n",
      "   macro avg       0.83      0.83      0.83     26517\n",
      "weighted avg       0.83      0.83      0.83     26517\n",
      "\n",
      "2.F1 Score for Logistic Reg: 0.8142811141523104\n",
      "\n",
      "\n",
      "3.confusion Matrix for Logistic Reg:\n",
      " [[11788  3257]\n",
      " [ 1357 10115]]\n",
      "\n",
      "\n",
      "4.cross validation: [1. 1. 1.]\n",
      "\n",
      "\n",
      "5.accuracy score:  0.8259984161104197\n",
      "\n",
      " decision Model None\n"
     ]
    }
   ],
   "source": [
    "print(\"logistic Model\",logistic_model())\n",
    "print(\"\\n Random Model\",random_model())\n",
    "print(\"\\n decision Model\",decision_model())"
   ]
  },
  {
   "cell_type": "markdown",
   "metadata": {},
   "source": [
    "Sweetviz Library Implementation on the result data."
   ]
  },
  {
   "cell_type": "code",
   "execution_count": 57,
   "metadata": {},
   "outputs": [],
   "source": [
    "# sns.pairplot(result)"
   ]
  },
  {
   "cell_type": "markdown",
   "metadata": {},
   "source": [
    "Things to do :\n",
    "1. Take top 10 feature importance\n",
    "2. Tune Random F and tune class_fit\n",
    "3. AUC and ROC curve (Done)"
   ]
  },
  {
   "cell_type": "markdown",
   "metadata": {},
   "source": [
    "Report :\n",
    "1. Basic Code snippet\n",
    "2. Explian the imp feature\n",
    "3. Explain the Algo\n",
    "4. Code Snippet and explain\n",
    "5. Conclusion\n",
    "6. Future Scope \n"
   ]
  },
  {
   "cell_type": "code",
   "execution_count": null,
   "metadata": {},
   "outputs": [],
   "source": []
  },
  {
   "cell_type": "code",
   "execution_count": 58,
   "metadata": {},
   "outputs": [
    {
     "data": {
      "text/plain": [
       "'0.23.1'"
      ]
     },
     "execution_count": 58,
     "metadata": {},
     "output_type": "execute_result"
    }
   ],
   "source": [
    "\n",
    "import sklearn\n",
    "sklearn.__version__"
   ]
  },
  {
   "cell_type": "code",
   "execution_count": 59,
   "metadata": {},
   "outputs": [
    {
     "data": {
      "text/plain": [
       "[Text(193.75, 283.125, 'X[78] <= 0.5\\ngini = 0.5\\nsamples = 61871\\nvalue = [31049, 30822]'),\n",
       " Text(96.875, 94.375, 'gini = 0.0\\nsamples = 30822\\nvalue = [0, 30822]'),\n",
       " Text(290.625, 94.375, 'gini = 0.0\\nsamples = 31049\\nvalue = [31049, 0]')]"
      ]
     },
     "execution_count": 59,
     "metadata": {},
     "output_type": "execute_result"
    },
    {
     "data": {
      "image/png": "[encoded data removed]",
      "text/plain": [
       "<Figure size 500x500 with 1 Axes>"
      ]
     },
     "metadata": {},
     "output_type": "display_data"
    }
   ],
   "source": [
    "\n",
    "from sklearn import tree\n",
    "plt.figure(figsize=(5,5))\n",
    "tree.plot_tree(dc_model,filled=True)"
   ]
  },
  {
   "cell_type": "code",
   "execution_count": 60,
   "metadata": {},
   "outputs": [],
   "source": [
    "path = dc_model.cost_complexity_pruning_path(X_train, y_train)\n",
    "ccp_alphas, impurities = path.ccp_alphas, path.impurities"
   ]
  },
  {
   "cell_type": "code",
   "execution_count": 61,
   "metadata": {},
   "outputs": [
    {
     "data": {
      "text/plain": [
       "array([0.        , 0.49999327])"
      ]
     },
     "execution_count": 61,
     "metadata": {},
     "output_type": "execute_result"
    }
   ],
   "source": [
    "ccp_alphas"
   ]
  },
  {
   "cell_type": "code",
   "execution_count": 62,
   "metadata": {},
   "outputs": [
    {
     "name": "stdout",
     "output_type": "stream",
     "text": [
      "Number of nodes in the last tree is: 1 with ccp_alpha: 0.4999932694981516\n"
     ]
    }
   ],
   "source": [
    "clfs = []\n",
    "for ccp_alpha in ccp_alphas:\n",
    "    clf = DecisionTreeClassifier(random_state=0, ccp_alpha=ccp_alpha)\n",
    "    clf.fit(X_train, y_train)\n",
    "    clfs.append(clf)\n",
    "print(\"Number of nodes in the last tree is: {} with ccp_alpha: {}\".format(\n",
    "      clfs[-1].tree_.node_count, ccp_alphas[-1]))"
   ]
  },
  {
   "cell_type": "code",
   "execution_count": 63,
   "metadata": {},
   "outputs": [
    {
     "data": {
      "image/png": "[encoded data removed]",
      "text/plain": [
       "<Figure size 600x400 with 1 Axes>"
      ]
     },
     "metadata": {},
     "output_type": "display_data"
    }
   ],
   "source": [
    "\n",
    "train_scores = [clf.score(X_train, y_train) for clf in clfs]\n",
    "test_scores = [clf.score(X_test, y_test) for clf in clfs]\n",
    "\n",
    "fig, ax = plt.subplots()\n",
    "ax.set_xlabel(\"alpha\")\n",
    "ax.set_ylabel(\"accuracy\")\n",
    "ax.set_title(\"Accuracy vs alpha for training and testing sets\")\n",
    "ax.plot(ccp_alphas, train_scores, marker='o', label=\"train\",\n",
    "        drawstyle=\"steps-post\")\n",
    "ax.plot(ccp_alphas, test_scores, marker='o', label=\"test\",\n",
    "        drawstyle=\"steps-post\")\n",
    "ax.legend()\n",
    "plt.show()"
   ]
  },
  {
   "cell_type": "code",
   "execution_count": 64,
   "metadata": {},
   "outputs": [
    {
     "data": {
      "text/plain": [
       "DecisionTreeClassifier(ccp_alpha=0.012, random_state=0)"
      ]
     },
     "execution_count": 64,
     "metadata": {},
     "output_type": "execute_result"
    }
   ],
   "source": [
    "clf = DecisionTreeClassifier(random_state=0, ccp_alpha=0.012)\n",
    "clf.fit(X_train,y_train)"
   ]
  },
  {
   "cell_type": "code",
   "execution_count": 65,
   "metadata": {},
   "outputs": [
    {
     "data": {
      "text/plain": [
       "1.0"
      ]
     },
     "execution_count": 65,
     "metadata": {},
     "output_type": "execute_result"
    }
   ],
   "source": [
    "pred=clf.predict(X_test)\n",
    "from sklearn.metrics import accuracy_score\n",
    "accuracy_score(y_test, pred)"
   ]
  },
  {
   "cell_type": "code",
   "execution_count": 66,
   "metadata": {},
   "outputs": [
    {
     "data": {
      "text/plain": [
       "[Text(193.75, 283.125, 'X[78] <= 0.5\\ngini = 0.5\\nsamples = 61871\\nvalue = [31049, 30822]'),\n",
       " Text(96.875, 94.375, 'gini = 0.0\\nsamples = 30822\\nvalue = [0, 30822]'),\n",
       " Text(290.625, 94.375, 'gini = 0.0\\nsamples = 31049\\nvalue = [31049, 0]')]"
      ]
     },
     "execution_count": 66,
     "metadata": {},
     "output_type": "execute_result"
    },
    {
     "data": {
      "image/png": "[encoded data removed]",
      "text/plain": [
       "<Figure size 500x500 with 1 Axes>"
      ]
     },
     "metadata": {},
     "output_type": "display_data"
    }
   ],
   "source": [
    "from sklearn import tree\n",
    "plt.figure(figsize=(5,5))\n",
    "tree.plot_tree(clf,filled=True)"
   ]
  },
  {
   "cell_type": "code",
   "execution_count": null,
   "metadata": {},
   "outputs": [],
   "source": []
  },
  {
   "cell_type": "code",
   "execution_count": 67,
   "metadata": {},
   "outputs": [],
   "source": [
    "from sklearn.metrics import roc_auc_score\n",
    "from sklearn.metrics import roc_curve\n",
    "# log_ROC_auc = roc_auc_score (y_test,y_test_pred)\n"
   ]
  },
  {
   "cell_type": "code",
   "execution_count": 68,
   "metadata": {},
   "outputs": [
    {
     "name": "stdout",
     "output_type": "stream",
     "text": [
      "RF train roc-auc: 0.9630410403374225\n",
      "RF test roc-auc: 0.9641828749877543\n"
     ]
    }
   ],
   "source": [
    "\n",
    "## Apply RandomForestClassifier\n",
    "ytrain_pred = rf_model.predict_proba(X_train)\n",
    "print('RF train roc-auc: {}'.format(roc_auc_score(y_train, ytrain_pred[:,1])))\n",
    "ytest_pred = rf_model.predict_proba(X_test)\n",
    "print('RF test roc-auc: {}'.format(roc_auc_score(y_test, ytest_pred[:,1])))"
   ]
  },
  {
   "cell_type": "code",
   "execution_count": 69,
   "metadata": {},
   "outputs": [
    {
     "name": "stdout",
     "output_type": "stream",
     "text": [
      "Logistic train roc-auc: 1.0\n",
      "Logistic test roc-auc: 1.0\n"
     ]
    }
   ],
   "source": [
    "ytrain_pred = lg.predict_proba(X_train)\n",
    "print('Logistic train roc-auc: {}'.format(roc_auc_score(y_train, ytrain_pred[:,1])))\n",
    "ytest_pred = lg.predict_proba(X_test)\n",
    "print('Logistic test roc-auc: {}'.format(roc_auc_score(y_test, ytest_pred[:,1])))"
   ]
  },
  {
   "cell_type": "markdown",
   "metadata": {},
   "source": [
    "Adaboost Classifier"
   ]
  },
  {
   "cell_type": "code",
   "execution_count": 70,
   "metadata": {},
   "outputs": [
    {
     "name": "stdout",
     "output_type": "stream",
     "text": [
      "Adaboost train roc-auc: 1.0\n",
      "Adaboost test roc-auc: 1.0\n"
     ]
    }
   ],
   "source": [
    "\n",
    "from sklearn.ensemble import AdaBoostClassifier\n",
    "ada_classifier=AdaBoostClassifier()\n",
    "ada_classifier.fit(X_train, y_train)\n",
    "ytrain_pred = ada_classifier.predict_proba(X_train)\n",
    "print('Adaboost train roc-auc: {}'.format(roc_auc_score(y_train, ytrain_pred[:,1])))\n",
    "ytest_pred = ada_classifier.predict_proba(X_test)\n",
    "print('Adaboost test roc-auc: {}'.format(roc_auc_score(y_test, ytest_pred[:,1])))"
   ]
  },
  {
   "cell_type": "markdown",
   "metadata": {},
   "source": [
    "KNNClassifier"
   ]
  },
  {
   "cell_type": "code",
   "execution_count": 71,
   "metadata": {},
   "outputs": [
    {
     "name": "stdout",
     "output_type": "stream",
     "text": [
      "Adaboost train roc-auc: 0.9996364281008336\n",
      "Adaboost test roc-auc: 0.9895680777931144\n"
     ]
    }
   ],
   "source": [
    "from sklearn.neighbors import KNeighborsClassifier\n",
    "knn_classifier=KNeighborsClassifier()\n",
    "knn_classifier.fit(X_train, y_train)\n",
    "ytrain_pred = knn_classifier.predict_proba(X_train)\n",
    "print('Adaboost train roc-auc: {}'.format(roc_auc_score(y_train, ytrain_pred[:,1])))\n",
    "ytest_pred = knn_classifier.predict_proba(X_test)\n",
    "print('Adaboost test roc-auc: {}'.format(roc_auc_score(y_test, ytest_pred[:,1])))"
   ]
  },
  {
   "cell_type": "code",
   "execution_count": 72,
   "metadata": {},
   "outputs": [
    {
     "name": "stdout",
     "output_type": "stream",
     "text": [
      "Ensemble test roc-auc: 0.9999999999999999\n"
     ]
    }
   ],
   "source": [
    "pred=[]\n",
    "for model in [rf_model,lg,dc_model,ada_classifier,knn_classifier]:\n",
    "    pred.append(pd.Series(model.predict_proba(X_test)[:,1]))\n",
    "final_prediction=pd.concat(pred,axis=1).mean(axis=1)\n",
    "print('Ensemble test roc-auc: {}'.format(roc_auc_score(y_test,final_prediction)))"
   ]
  },
  {
   "cell_type": "code",
   "execution_count": 73,
   "metadata": {},
   "outputs": [
    {
     "data": {
      "text/html": [
       "<div>\n",
       "<style scoped>\n",
       "    .dataframe tbody tr th:only-of-type {\n",
       "        vertical-align: middle;\n",
       "    }\n",
       "\n",
       "    .dataframe tbody tr th {\n",
       "        vertical-align: top;\n",
       "    }\n",
       "\n",
       "    .dataframe thead th {\n",
       "        text-align: right;\n",
       "    }\n",
       "</style>\n",
       "<table border=\"1\" class=\"dataframe\">\n",
       "  <thead>\n",
       "    <tr style=\"text-align: right;\">\n",
       "      <th></th>\n",
       "      <th>0</th>\n",
       "      <th>1</th>\n",
       "      <th>2</th>\n",
       "      <th>3</th>\n",
       "      <th>4</th>\n",
       "    </tr>\n",
       "  </thead>\n",
       "  <tbody>\n",
       "    <tr>\n",
       "      <th>0</th>\n",
       "      <td>0.733789</td>\n",
       "      <td>0.999641</td>\n",
       "      <td>1.0</td>\n",
       "      <td>1.000000e+00</td>\n",
       "      <td>1.0</td>\n",
       "    </tr>\n",
       "    <tr>\n",
       "      <th>1</th>\n",
       "      <td>0.372190</td>\n",
       "      <td>0.996507</td>\n",
       "      <td>1.0</td>\n",
       "      <td>1.000000e+00</td>\n",
       "      <td>1.0</td>\n",
       "    </tr>\n",
       "    <tr>\n",
       "      <th>2</th>\n",
       "      <td>0.635356</td>\n",
       "      <td>0.999576</td>\n",
       "      <td>1.0</td>\n",
       "      <td>1.000000e+00</td>\n",
       "      <td>1.0</td>\n",
       "    </tr>\n",
       "    <tr>\n",
       "      <th>3</th>\n",
       "      <td>0.378240</td>\n",
       "      <td>0.000852</td>\n",
       "      <td>0.0</td>\n",
       "      <td>2.220446e-16</td>\n",
       "      <td>0.0</td>\n",
       "    </tr>\n",
       "    <tr>\n",
       "      <th>4</th>\n",
       "      <td>0.301755</td>\n",
       "      <td>0.000279</td>\n",
       "      <td>0.0</td>\n",
       "      <td>2.220446e-16</td>\n",
       "      <td>0.0</td>\n",
       "    </tr>\n",
       "    <tr>\n",
       "      <th>...</th>\n",
       "      <td>...</td>\n",
       "      <td>...</td>\n",
       "      <td>...</td>\n",
       "      <td>...</td>\n",
       "      <td>...</td>\n",
       "    </tr>\n",
       "    <tr>\n",
       "      <th>26512</th>\n",
       "      <td>0.353034</td>\n",
       "      <td>0.000448</td>\n",
       "      <td>0.0</td>\n",
       "      <td>2.220446e-16</td>\n",
       "      <td>0.0</td>\n",
       "    </tr>\n",
       "    <tr>\n",
       "      <th>26513</th>\n",
       "      <td>0.759071</td>\n",
       "      <td>0.999551</td>\n",
       "      <td>1.0</td>\n",
       "      <td>1.000000e+00</td>\n",
       "      <td>1.0</td>\n",
       "    </tr>\n",
       "    <tr>\n",
       "      <th>26514</th>\n",
       "      <td>0.497411</td>\n",
       "      <td>0.999242</td>\n",
       "      <td>1.0</td>\n",
       "      <td>1.000000e+00</td>\n",
       "      <td>1.0</td>\n",
       "    </tr>\n",
       "    <tr>\n",
       "      <th>26515</th>\n",
       "      <td>0.738882</td>\n",
       "      <td>0.999626</td>\n",
       "      <td>1.0</td>\n",
       "      <td>1.000000e+00</td>\n",
       "      <td>1.0</td>\n",
       "    </tr>\n",
       "    <tr>\n",
       "      <th>26516</th>\n",
       "      <td>0.773013</td>\n",
       "      <td>0.999553</td>\n",
       "      <td>1.0</td>\n",
       "      <td>1.000000e+00</td>\n",
       "      <td>1.0</td>\n",
       "    </tr>\n",
       "  </tbody>\n",
       "</table>\n",
       "<p>26517 rows × 5 columns</p>\n",
       "</div>"
      ],
      "text/plain": [
       "              0         1    2             3    4\n",
       "0      0.733789  0.999641  1.0  1.000000e+00  1.0\n",
       "1      0.372190  0.996507  1.0  1.000000e+00  1.0\n",
       "2      0.635356  0.999576  1.0  1.000000e+00  1.0\n",
       "3      0.378240  0.000852  0.0  2.220446e-16  0.0\n",
       "4      0.301755  0.000279  0.0  2.220446e-16  0.0\n",
       "...         ...       ...  ...           ...  ...\n",
       "26512  0.353034  0.000448  0.0  2.220446e-16  0.0\n",
       "26513  0.759071  0.999551  1.0  1.000000e+00  1.0\n",
       "26514  0.497411  0.999242  1.0  1.000000e+00  1.0\n",
       "26515  0.738882  0.999626  1.0  1.000000e+00  1.0\n",
       "26516  0.773013  0.999553  1.0  1.000000e+00  1.0\n",
       "\n",
       "[26517 rows x 5 columns]"
      ]
     },
     "execution_count": 73,
     "metadata": {},
     "output_type": "execute_result"
    }
   ],
   "source": [
    "pd.concat(pred,axis=1)"
   ]
  },
  {
   "cell_type": "code",
   "execution_count": 74,
   "metadata": {},
   "outputs": [
    {
     "data": {
      "text/plain": [
       "0        0.946686\n",
       "1        0.873739\n",
       "2        0.926987\n",
       "3        0.075818\n",
       "4        0.060407\n",
       "           ...   \n",
       "26512    0.070697\n",
       "26513    0.951724\n",
       "26514    0.899331\n",
       "26515    0.947702\n",
       "26516    0.954513\n",
       "Length: 26517, dtype: float64"
      ]
     },
     "execution_count": 74,
     "metadata": {},
     "output_type": "execute_result"
    }
   ],
   "source": [
    "final_prediction"
   ]
  },
  {
   "cell_type": "code",
   "execution_count": 75,
   "metadata": {},
   "outputs": [
    {
     "data": {
      "text/plain": [
       "array([1.95795764, 0.95795764, 0.95795608, ..., 0.03793442, 0.03793433,\n",
       "       0.0322408 ])"
      ]
     },
     "execution_count": 75,
     "metadata": {},
     "output_type": "execute_result"
    }
   ],
   "source": [
    "\n",
    "#### Calculate the ROc Curve\n",
    "\n",
    "\n",
    "fpr, tpr, thresholds = roc_curve(y_test, final_prediction)\n",
    "thresholds"
   ]
  },
  {
   "cell_type": "code",
   "execution_count": 76,
   "metadata": {},
   "outputs": [
    {
     "data": {
      "text/html": [
       "<div>\n",
       "<style scoped>\n",
       "    .dataframe tbody tr th:only-of-type {\n",
       "        vertical-align: middle;\n",
       "    }\n",
       "\n",
       "    .dataframe tbody tr th {\n",
       "        vertical-align: top;\n",
       "    }\n",
       "\n",
       "    .dataframe thead th {\n",
       "        text-align: right;\n",
       "    }\n",
       "</style>\n",
       "<table border=\"1\" class=\"dataframe\">\n",
       "  <thead>\n",
       "    <tr style=\"text-align: right;\">\n",
       "      <th></th>\n",
       "      <th>thresholds</th>\n",
       "      <th>accuracy</th>\n",
       "    </tr>\n",
       "  </thead>\n",
       "  <tbody>\n",
       "    <tr>\n",
       "      <th>650</th>\n",
       "      <td>0.659344</td>\n",
       "      <td>0.999962</td>\n",
       "    </tr>\n",
       "    <tr>\n",
       "      <th>651</th>\n",
       "      <td>0.319977</td>\n",
       "      <td>0.998756</td>\n",
       "    </tr>\n",
       "    <tr>\n",
       "      <th>652</th>\n",
       "      <td>0.319966</td>\n",
       "      <td>0.998718</td>\n",
       "    </tr>\n",
       "    <tr>\n",
       "      <th>653</th>\n",
       "      <td>0.315015</td>\n",
       "      <td>0.997209</td>\n",
       "    </tr>\n",
       "    <tr>\n",
       "      <th>654</th>\n",
       "      <td>0.315013</td>\n",
       "      <td>0.997172</td>\n",
       "    </tr>\n",
       "  </tbody>\n",
       "</table>\n",
       "</div>"
      ],
      "text/plain": [
       "     thresholds  accuracy\n",
       "650    0.659344  0.999962\n",
       "651    0.319977  0.998756\n",
       "652    0.319966  0.998718\n",
       "653    0.315015  0.997209\n",
       "654    0.315013  0.997172"
      ]
     },
     "execution_count": 76,
     "metadata": {},
     "output_type": "execute_result"
    }
   ],
   "source": [
    "from sklearn.metrics import accuracy_score\n",
    "accuracy_ls = []\n",
    "for thres in thresholds:\n",
    "    y_pred = np.where(final_prediction>thres,1,0)\n",
    "    accuracy_ls.append(accuracy_score(y_test, y_pred, normalize=True))\n",
    "    \n",
    "accuracy_ls = pd.concat([pd.Series(thresholds), pd.Series(accuracy_ls)],\n",
    "                        axis=1)\n",
    "accuracy_ls.columns = ['thresholds', 'accuracy']\n",
    "accuracy_ls.sort_values(by='accuracy', ascending=False, inplace=True)\n",
    "accuracy_ls.head()"
   ]
  },
  {
   "cell_type": "code",
   "execution_count": 77,
   "metadata": {},
   "outputs": [
    {
     "data": {
      "text/html": [
       "<div>\n",
       "<style scoped>\n",
       "    .dataframe tbody tr th:only-of-type {\n",
       "        vertical-align: middle;\n",
       "    }\n",
       "\n",
       "    .dataframe tbody tr th {\n",
       "        vertical-align: top;\n",
       "    }\n",
       "\n",
       "    .dataframe thead th {\n",
       "        text-align: right;\n",
       "    }\n",
       "</style>\n",
       "<table border=\"1\" class=\"dataframe\">\n",
       "  <thead>\n",
       "    <tr style=\"text-align: right;\">\n",
       "      <th></th>\n",
       "      <th>thresholds</th>\n",
       "      <th>accuracy</th>\n",
       "    </tr>\n",
       "  </thead>\n",
       "  <tbody>\n",
       "    <tr>\n",
       "      <th>650</th>\n",
       "      <td>0.659344</td>\n",
       "      <td>0.999962</td>\n",
       "    </tr>\n",
       "    <tr>\n",
       "      <th>651</th>\n",
       "      <td>0.319977</td>\n",
       "      <td>0.998756</td>\n",
       "    </tr>\n",
       "    <tr>\n",
       "      <th>652</th>\n",
       "      <td>0.319966</td>\n",
       "      <td>0.998718</td>\n",
       "    </tr>\n",
       "    <tr>\n",
       "      <th>653</th>\n",
       "      <td>0.315015</td>\n",
       "      <td>0.997209</td>\n",
       "    </tr>\n",
       "    <tr>\n",
       "      <th>654</th>\n",
       "      <td>0.315013</td>\n",
       "      <td>0.997172</td>\n",
       "    </tr>\n",
       "    <tr>\n",
       "      <th>...</th>\n",
       "      <td>...</td>\n",
       "      <td>...</td>\n",
       "    </tr>\n",
       "    <tr>\n",
       "      <th>4</th>\n",
       "      <td>0.957955</td>\n",
       "      <td>0.496285</td>\n",
       "    </tr>\n",
       "    <tr>\n",
       "      <th>3</th>\n",
       "      <td>0.957955</td>\n",
       "      <td>0.496210</td>\n",
       "    </tr>\n",
       "    <tr>\n",
       "      <th>2</th>\n",
       "      <td>0.957956</td>\n",
       "      <td>0.496172</td>\n",
       "    </tr>\n",
       "    <tr>\n",
       "      <th>1</th>\n",
       "      <td>0.957958</td>\n",
       "      <td>0.495720</td>\n",
       "    </tr>\n",
       "    <tr>\n",
       "      <th>0</th>\n",
       "      <td>1.957958</td>\n",
       "      <td>0.495720</td>\n",
       "    </tr>\n",
       "  </tbody>\n",
       "</table>\n",
       "<p>1784 rows × 2 columns</p>\n",
       "</div>"
      ],
      "text/plain": [
       "     thresholds  accuracy\n",
       "650    0.659344  0.999962\n",
       "651    0.319977  0.998756\n",
       "652    0.319966  0.998718\n",
       "653    0.315015  0.997209\n",
       "654    0.315013  0.997172\n",
       "..          ...       ...\n",
       "4      0.957955  0.496285\n",
       "3      0.957955  0.496210\n",
       "2      0.957956  0.496172\n",
       "1      0.957958  0.495720\n",
       "0      1.957958  0.495720\n",
       "\n",
       "[1784 rows x 2 columns]"
      ]
     },
     "execution_count": 77,
     "metadata": {},
     "output_type": "execute_result"
    }
   ],
   "source": [
    "accuracy_ls\n"
   ]
  },
  {
   "cell_type": "code",
   "execution_count": 78,
   "metadata": {},
   "outputs": [],
   "source": [
    "def plot_roc_curve(fpr, tpr):\n",
    "    plt.plot(fpr, tpr, color='orange', label='ROC')\n",
    "    plt.plot([0, 1], [0, 1], color='darkblue', linestyle='--')\n",
    "    plt.xlabel('False Positive Rate')\n",
    "    plt.ylabel('True Positive Rate')\n",
    "    plt.title('Receiver Operating Characteristic (ROC) Curve')\n",
    "    plt.legend()\n",
    "    plt.show()"
   ]
  },
  {
   "cell_type": "code",
   "execution_count": 79,
   "metadata": {},
   "outputs": [
    {
     "data": {
      "image/png": "[encoded data removed]",
      "text/plain": [
       "<Figure size 600x400 with 1 Axes>"
      ]
     },
     "metadata": {},
     "output_type": "display_data"
    }
   ],
   "source": [
    "plot_roc_curve(fpr,tpr)"
   ]
  },
  {
   "cell_type": "markdown",
   "metadata": {},
   "source": [
    "Grid Search "
   ]
  },
  {
   "cell_type": "code",
   "execution_count": 80,
   "metadata": {},
   "outputs": [],
   "source": [
    "from sklearn.model_selection import GridSearchCV"
   ]
  },
  {
   "cell_type": "code",
   "execution_count": 81,
   "metadata": {},
   "outputs": [],
   "source": [
    "parameters = {\"n_estimators\" : (10,30,50,70,90)\n",
    "             ,\"criterion\" : ('gini','entropy')\n",
    "             ,'max_depth': (3,5,7,9,10)\n",
    "             ,'max_features': ('auto','sqrt')\n",
    "             ,\"min_samples_split\" : (2,4,6)\n",
    "             }"
   ]
  },
  {
   "cell_type": "code",
   "execution_count": 82,
   "metadata": {},
   "outputs": [],
   "source": [
    "RF_grid = GridSearchCV(RandomForestClassifier(n_jobs=-1,oob_score=False ),param_grid=parameters, cv=3,verbose=True)"
   ]
  },
  {
   "cell_type": "code",
   "execution_count": 83,
   "metadata": {},
   "outputs": [
    {
     "name": "stdout",
     "output_type": "stream",
     "text": [
      "Fitting 3 folds for each of 300 candidates, totalling 900 fits\n"
     ]
    },
    {
     "name": "stderr",
     "output_type": "stream",
     "text": [
      "[Parallel(n_jobs=1)]: Using backend SequentialBackend with 1 concurrent workers.\n",
      "[Parallel(n_jobs=1)]: Done 900 out of 900 | elapsed: 16.8min finished\n"
     ]
    }
   ],
   "source": [
    "RF_grid_model = RF_grid.fit(X_train,y_train)"
   ]
  },
  {
   "cell_type": "code",
   "execution_count": 84,
   "metadata": {},
   "outputs": [
    {
     "data": {
      "text/plain": [
       "RandomForestClassifier(max_depth=7, min_samples_split=6, n_estimators=70,\n",
       "                       n_jobs=-1)"
      ]
     },
     "execution_count": 84,
     "metadata": {},
     "output_type": "execute_result"
    }
   ],
   "source": [
    "RF_grid_model.best_estimator_"
   ]
  },
  {
   "cell_type": "code",
   "execution_count": 85,
   "metadata": {},
   "outputs": [
    {
     "data": {
      "text/plain": [
       "1.0"
      ]
     },
     "execution_count": 85,
     "metadata": {},
     "output_type": "execute_result"
    }
   ],
   "source": [
    "RF_grid_model.best_score_"
   ]
  },
  {
   "cell_type": "code",
   "execution_count": null,
   "metadata": {},
   "outputs": [],
   "source": []
  },
  {
   "cell_type": "markdown",
   "metadata": {},
   "source": [
    "Top 10 Feature "
   ]
  },
  {
   "cell_type": "code",
   "execution_count": 86,
   "metadata": {},
   "outputs": [
    {
     "data": {
      "image/png": "[encoded data removed]",
      "text/plain": [
       "<Figure size 600x400 with 1 Axes>"
      ]
     },
     "metadata": {},
     "output_type": "display_data"
    }
   ],
   "source": [
    "importances = rf_model.feature_importances_\n",
    "feature_importances=pd.Series(importances,index=X_train.columns).sort_values(ascending =False)\n",
    "sns.barplot(x=feature_importances[0:10],y=feature_importances.index[0:10])\n",
    "plt.title(\"Feature Importance\",size=20)\n",
    "plt.ylabel(\"Features\")\n",
    "plt.show()"
   ]
  },
  {
   "cell_type": "code",
   "execution_count": null,
   "metadata": {},
   "outputs": [],
   "source": [
    "# calculate roc curves\n",
    "ns_fpr, ns_tpr, _ = roc_curve(y_, ns_probs)\n",
    "lr_fpr, lr_tpr, _ = roc_curve(testy, lr_probs)\n",
    "# plot the roc curve for the model\n",
    "pyplot.plot(ns_fpr, ns_tpr, linestyle='--', label='No Skill')\n",
    "pyplot.plot(lr_fpr, lr_tpr, marker='.', label='Logistic')\n",
    "# axis labels\n",
    "pyplot.xlabel('False Positive Rate')\n",
    "pyplot.ylabel('True Positive Rate')\n",
    "# show the legend\n",
    "pyplot.legend()\n",
    "# show the plot\n",
    "pyplot.show()"
   ]
  }
 ],
 "metadata": {
  "kernelspec": {
   "display_name": "Python 3",
   "language": "python",
   "name": "python3"
  },
  "language_info": {
   "codemirror_mode": {
    "name": "ipython",
    "version": 3
   },
   "file_extension": ".py",
   "mimetype": "text/x-python",
   "name": "python",
   "nbconvert_exporter": "python",
   "pygments_lexer": "ipython3",
   "version": "3.8.3"
  }
 },
 "nbformat": 4,
 "nbformat_minor": 4
}
